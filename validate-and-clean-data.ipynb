{
 "cells": [
  {
   "metadata": {},
   "cell_type": "markdown",
   "source": "## step 1: imports",
   "id": "b0433fb34db0efdc"
  },
  {
   "cell_type": "code",
   "id": "initial_id",
   "metadata": {
    "collapsed": true,
    "ExecuteTime": {
     "end_time": "2025-07-29T17:07:41.279799Z",
     "start_time": "2025-07-29T17:07:41.275961Z"
    }
   },
   "source": [
    "import numpy as np\n",
    "import pandas as pd\n",
    "import seaborn as sns\n",
    "import matplotlib.pyplot as plt"
   ],
   "outputs": [],
   "execution_count": 20
  },
  {
   "metadata": {
    "ExecuteTime": {
     "end_time": "2025-07-29T17:07:41.294965Z",
     "start_time": "2025-07-29T17:07:41.292036Z"
    }
   },
   "cell_type": "code",
   "source": "pd.set_option('display.max_columns', None)",
   "id": "dfc4dbb36fc3a0b1",
   "outputs": [],
   "execution_count": 21
  },
  {
   "metadata": {
    "ExecuteTime": {
     "end_time": "2025-07-29T17:07:41.323964Z",
     "start_time": "2025-07-29T17:07:41.312373Z"
    }
   },
   "cell_type": "code",
   "source": [
    "companies = pd.read_csv('Modified_Unicorn_Companies.csv')\n",
    "companies.head()"
   ],
   "id": "3604df234b0c2817",
   "outputs": [
    {
     "data": {
      "text/plain": [
       "     Company  Valuation Date Joined                         Industry  \\\n",
       "0  Bytedance        180  2017-04-07          Artificial intelligence   \n",
       "1     SpaceX        100  2012-12-01                            Other   \n",
       "2      SHEIN        100  2018-07-03  E-commerce & direct-to-consumer   \n",
       "3     Stripe         95  2014-01-23                          FinTech   \n",
       "4     Klarna         46  2011-12-12                          Fintech   \n",
       "\n",
       "            City Country/Region      Continent  Year Founded Funding  \\\n",
       "0        Beijing          China           Asia          2012     $8B   \n",
       "1      Hawthorne  United States  North America          2002     $7B   \n",
       "2       Shenzhen          China           Asia          2008     $2B   \n",
       "3  San Francisco  United States  North America          2010     $2B   \n",
       "4      Stockholm         Sweden         Europe          2005     $4B   \n",
       "\n",
       "                                    Select Investors  \n",
       "0  Sequoia Capital China, SIG Asia Investments, S...  \n",
       "1  Founders Fund, Draper Fisher Jurvetson, Rothen...  \n",
       "2  Tiger Global Management, Sequoia Capital China...  \n",
       "3        Khosla Ventures, LowercaseCapital, capitalG  \n",
       "4  Institutional Venture Partners, Sequoia Capita...  "
      ],
      "text/html": [
       "<div>\n",
       "<style scoped>\n",
       "    .dataframe tbody tr th:only-of-type {\n",
       "        vertical-align: middle;\n",
       "    }\n",
       "\n",
       "    .dataframe tbody tr th {\n",
       "        vertical-align: top;\n",
       "    }\n",
       "\n",
       "    .dataframe thead th {\n",
       "        text-align: right;\n",
       "    }\n",
       "</style>\n",
       "<table border=\"1\" class=\"dataframe\">\n",
       "  <thead>\n",
       "    <tr style=\"text-align: right;\">\n",
       "      <th></th>\n",
       "      <th>Company</th>\n",
       "      <th>Valuation</th>\n",
       "      <th>Date Joined</th>\n",
       "      <th>Industry</th>\n",
       "      <th>City</th>\n",
       "      <th>Country/Region</th>\n",
       "      <th>Continent</th>\n",
       "      <th>Year Founded</th>\n",
       "      <th>Funding</th>\n",
       "      <th>Select Investors</th>\n",
       "    </tr>\n",
       "  </thead>\n",
       "  <tbody>\n",
       "    <tr>\n",
       "      <th>0</th>\n",
       "      <td>Bytedance</td>\n",
       "      <td>180</td>\n",
       "      <td>2017-04-07</td>\n",
       "      <td>Artificial intelligence</td>\n",
       "      <td>Beijing</td>\n",
       "      <td>China</td>\n",
       "      <td>Asia</td>\n",
       "      <td>2012</td>\n",
       "      <td>$8B</td>\n",
       "      <td>Sequoia Capital China, SIG Asia Investments, S...</td>\n",
       "    </tr>\n",
       "    <tr>\n",
       "      <th>1</th>\n",
       "      <td>SpaceX</td>\n",
       "      <td>100</td>\n",
       "      <td>2012-12-01</td>\n",
       "      <td>Other</td>\n",
       "      <td>Hawthorne</td>\n",
       "      <td>United States</td>\n",
       "      <td>North America</td>\n",
       "      <td>2002</td>\n",
       "      <td>$7B</td>\n",
       "      <td>Founders Fund, Draper Fisher Jurvetson, Rothen...</td>\n",
       "    </tr>\n",
       "    <tr>\n",
       "      <th>2</th>\n",
       "      <td>SHEIN</td>\n",
       "      <td>100</td>\n",
       "      <td>2018-07-03</td>\n",
       "      <td>E-commerce &amp; direct-to-consumer</td>\n",
       "      <td>Shenzhen</td>\n",
       "      <td>China</td>\n",
       "      <td>Asia</td>\n",
       "      <td>2008</td>\n",
       "      <td>$2B</td>\n",
       "      <td>Tiger Global Management, Sequoia Capital China...</td>\n",
       "    </tr>\n",
       "    <tr>\n",
       "      <th>3</th>\n",
       "      <td>Stripe</td>\n",
       "      <td>95</td>\n",
       "      <td>2014-01-23</td>\n",
       "      <td>FinTech</td>\n",
       "      <td>San Francisco</td>\n",
       "      <td>United States</td>\n",
       "      <td>North America</td>\n",
       "      <td>2010</td>\n",
       "      <td>$2B</td>\n",
       "      <td>Khosla Ventures, LowercaseCapital, capitalG</td>\n",
       "    </tr>\n",
       "    <tr>\n",
       "      <th>4</th>\n",
       "      <td>Klarna</td>\n",
       "      <td>46</td>\n",
       "      <td>2011-12-12</td>\n",
       "      <td>Fintech</td>\n",
       "      <td>Stockholm</td>\n",
       "      <td>Sweden</td>\n",
       "      <td>Europe</td>\n",
       "      <td>2005</td>\n",
       "      <td>$4B</td>\n",
       "      <td>Institutional Venture Partners, Sequoia Capita...</td>\n",
       "    </tr>\n",
       "  </tbody>\n",
       "</table>\n",
       "</div>"
      ]
     },
     "execution_count": 22,
     "metadata": {},
     "output_type": "execute_result"
    }
   ],
   "execution_count": 22
  },
  {
   "metadata": {},
   "cell_type": "markdown",
   "source": "## step 2: data cleaning ",
   "id": "39ad49cba044e207"
  },
  {
   "metadata": {
    "ExecuteTime": {
     "end_time": "2025-07-29T17:07:41.386452Z",
     "start_time": "2025-07-29T17:07:41.380844Z"
    }
   },
   "cell_type": "code",
   "source": "companies.dtypes",
   "id": "d615012cb9d22ba2",
   "outputs": [
    {
     "data": {
      "text/plain": [
       "Company             object\n",
       "Valuation            int64\n",
       "Date Joined         object\n",
       "Industry            object\n",
       "City                object\n",
       "Country/Region      object\n",
       "Continent           object\n",
       "Year Founded         int64\n",
       "Funding             object\n",
       "Select Investors    object\n",
       "dtype: object"
      ]
     },
     "execution_count": 23,
     "metadata": {},
     "output_type": "execute_result"
    }
   ],
   "execution_count": 23
  },
  {
   "metadata": {
    "ExecuteTime": {
     "end_time": "2025-07-29T17:07:41.476182Z",
     "start_time": "2025-07-29T17:07:41.465304Z"
    }
   },
   "cell_type": "code",
   "source": [
    "# converting the 'object' dtype column to 'datetime'\n",
    "companies[\"Date Joined\"] = pd.to_datetime(companies[\"Date Joined\"])"
   ],
   "id": "aef622ae5ba918f8",
   "outputs": [],
   "execution_count": 24
  },
  {
   "metadata": {
    "ExecuteTime": {
     "end_time": "2025-07-29T17:07:41.624418Z",
     "start_time": "2025-07-29T17:07:41.618624Z"
    }
   },
   "cell_type": "code",
   "source": [
    "# adding a column called 'Years To Unicorn'\n",
    "companies[\"Years To Unicorn\"] = companies[\"Date Joined\"].dt.year - companies[\"Year Founded\"]"
   ],
   "id": "e79cce4dfd58c9cb",
   "outputs": [],
   "execution_count": 25
  },
  {
   "metadata": {
    "ExecuteTime": {
     "end_time": "2025-07-29T17:07:41.698603Z",
     "start_time": "2025-07-29T17:07:41.689716Z"
    }
   },
   "cell_type": "code",
   "source": "companies.head()",
   "id": "64e9e2a4b5daf513",
   "outputs": [
    {
     "data": {
      "text/plain": [
       "     Company  Valuation Date Joined                         Industry  \\\n",
       "0  Bytedance        180  2017-04-07          Artificial intelligence   \n",
       "1     SpaceX        100  2012-12-01                            Other   \n",
       "2      SHEIN        100  2018-07-03  E-commerce & direct-to-consumer   \n",
       "3     Stripe         95  2014-01-23                          FinTech   \n",
       "4     Klarna         46  2011-12-12                          Fintech   \n",
       "\n",
       "            City Country/Region      Continent  Year Founded Funding  \\\n",
       "0        Beijing          China           Asia          2012     $8B   \n",
       "1      Hawthorne  United States  North America          2002     $7B   \n",
       "2       Shenzhen          China           Asia          2008     $2B   \n",
       "3  San Francisco  United States  North America          2010     $2B   \n",
       "4      Stockholm         Sweden         Europe          2005     $4B   \n",
       "\n",
       "                                    Select Investors  Years To Unicorn  \n",
       "0  Sequoia Capital China, SIG Asia Investments, S...                 5  \n",
       "1  Founders Fund, Draper Fisher Jurvetson, Rothen...                10  \n",
       "2  Tiger Global Management, Sequoia Capital China...                10  \n",
       "3        Khosla Ventures, LowercaseCapital, capitalG                 4  \n",
       "4  Institutional Venture Partners, Sequoia Capita...                 6  "
      ],
      "text/html": [
       "<div>\n",
       "<style scoped>\n",
       "    .dataframe tbody tr th:only-of-type {\n",
       "        vertical-align: middle;\n",
       "    }\n",
       "\n",
       "    .dataframe tbody tr th {\n",
       "        vertical-align: top;\n",
       "    }\n",
       "\n",
       "    .dataframe thead th {\n",
       "        text-align: right;\n",
       "    }\n",
       "</style>\n",
       "<table border=\"1\" class=\"dataframe\">\n",
       "  <thead>\n",
       "    <tr style=\"text-align: right;\">\n",
       "      <th></th>\n",
       "      <th>Company</th>\n",
       "      <th>Valuation</th>\n",
       "      <th>Date Joined</th>\n",
       "      <th>Industry</th>\n",
       "      <th>City</th>\n",
       "      <th>Country/Region</th>\n",
       "      <th>Continent</th>\n",
       "      <th>Year Founded</th>\n",
       "      <th>Funding</th>\n",
       "      <th>Select Investors</th>\n",
       "      <th>Years To Unicorn</th>\n",
       "    </tr>\n",
       "  </thead>\n",
       "  <tbody>\n",
       "    <tr>\n",
       "      <th>0</th>\n",
       "      <td>Bytedance</td>\n",
       "      <td>180</td>\n",
       "      <td>2017-04-07</td>\n",
       "      <td>Artificial intelligence</td>\n",
       "      <td>Beijing</td>\n",
       "      <td>China</td>\n",
       "      <td>Asia</td>\n",
       "      <td>2012</td>\n",
       "      <td>$8B</td>\n",
       "      <td>Sequoia Capital China, SIG Asia Investments, S...</td>\n",
       "      <td>5</td>\n",
       "    </tr>\n",
       "    <tr>\n",
       "      <th>1</th>\n",
       "      <td>SpaceX</td>\n",
       "      <td>100</td>\n",
       "      <td>2012-12-01</td>\n",
       "      <td>Other</td>\n",
       "      <td>Hawthorne</td>\n",
       "      <td>United States</td>\n",
       "      <td>North America</td>\n",
       "      <td>2002</td>\n",
       "      <td>$7B</td>\n",
       "      <td>Founders Fund, Draper Fisher Jurvetson, Rothen...</td>\n",
       "      <td>10</td>\n",
       "    </tr>\n",
       "    <tr>\n",
       "      <th>2</th>\n",
       "      <td>SHEIN</td>\n",
       "      <td>100</td>\n",
       "      <td>2018-07-03</td>\n",
       "      <td>E-commerce &amp; direct-to-consumer</td>\n",
       "      <td>Shenzhen</td>\n",
       "      <td>China</td>\n",
       "      <td>Asia</td>\n",
       "      <td>2008</td>\n",
       "      <td>$2B</td>\n",
       "      <td>Tiger Global Management, Sequoia Capital China...</td>\n",
       "      <td>10</td>\n",
       "    </tr>\n",
       "    <tr>\n",
       "      <th>3</th>\n",
       "      <td>Stripe</td>\n",
       "      <td>95</td>\n",
       "      <td>2014-01-23</td>\n",
       "      <td>FinTech</td>\n",
       "      <td>San Francisco</td>\n",
       "      <td>United States</td>\n",
       "      <td>North America</td>\n",
       "      <td>2010</td>\n",
       "      <td>$2B</td>\n",
       "      <td>Khosla Ventures, LowercaseCapital, capitalG</td>\n",
       "      <td>4</td>\n",
       "    </tr>\n",
       "    <tr>\n",
       "      <th>4</th>\n",
       "      <td>Klarna</td>\n",
       "      <td>46</td>\n",
       "      <td>2011-12-12</td>\n",
       "      <td>Fintech</td>\n",
       "      <td>Stockholm</td>\n",
       "      <td>Sweden</td>\n",
       "      <td>Europe</td>\n",
       "      <td>2005</td>\n",
       "      <td>$4B</td>\n",
       "      <td>Institutional Venture Partners, Sequoia Capita...</td>\n",
       "      <td>6</td>\n",
       "    </tr>\n",
       "  </tbody>\n",
       "</table>\n",
       "</div>"
      ]
     },
     "execution_count": 26,
     "metadata": {},
     "output_type": "execute_result"
    }
   ],
   "execution_count": 26
  },
  {
   "metadata": {},
   "cell_type": "markdown",
   "source": "#### input validation",
   "id": "bb0d9b7935f0e7c1"
  },
  {
   "metadata": {},
   "cell_type": "markdown",
   "source": "##### correcting bad data",
   "id": "df4cc462e8ff92ad"
  },
  {
   "metadata": {
    "ExecuteTime": {
     "end_time": "2025-07-29T17:07:41.789672Z",
     "start_time": "2025-07-29T17:07:41.776752Z"
    }
   },
   "cell_type": "code",
   "source": "companies[\"Years To Unicorn\"].describe()",
   "id": "9f512fcad406e672",
   "outputs": [
    {
     "data": {
      "text/plain": [
       "count    1074.000000\n",
       "mean        7.013035\n",
       "std         5.331842\n",
       "min        -3.000000\n",
       "25%         4.000000\n",
       "50%         6.000000\n",
       "75%         9.000000\n",
       "max        98.000000\n",
       "Name: Years To Unicorn, dtype: float64"
      ]
     },
     "execution_count": 27,
     "metadata": {},
     "output_type": "execute_result"
    }
   ],
   "execution_count": 27
  },
  {
   "metadata": {},
   "cell_type": "markdown",
   "source": "'Years To Unicorn' cannot be negative.",
   "id": "a2b2861a3bdca934"
  },
  {
   "metadata": {
    "ExecuteTime": {
     "end_time": "2025-07-29T17:07:41.892107Z",
     "start_time": "2025-07-29T17:07:41.879901Z"
    }
   },
   "cell_type": "code",
   "source": "companies[companies['Years To Unicorn'] < 0]",
   "id": "1fca5c8fb2296dd5",
   "outputs": [
    {
     "data": {
      "text/plain": [
       "      Company  Valuation Date Joined                      Industry      City  \\\n",
       "527  InVision          2  2017-11-01  Internet software & services  New York   \n",
       "\n",
       "    Country/Region      Continent  Year Founded Funding  \\\n",
       "527  United States  North America          2020   $349M   \n",
       "\n",
       "                                      Select Investors  Years To Unicorn  \n",
       "527  FirstMark Capital, Tiger Global Management, IC...                -3  "
      ],
      "text/html": [
       "<div>\n",
       "<style scoped>\n",
       "    .dataframe tbody tr th:only-of-type {\n",
       "        vertical-align: middle;\n",
       "    }\n",
       "\n",
       "    .dataframe tbody tr th {\n",
       "        vertical-align: top;\n",
       "    }\n",
       "\n",
       "    .dataframe thead th {\n",
       "        text-align: right;\n",
       "    }\n",
       "</style>\n",
       "<table border=\"1\" class=\"dataframe\">\n",
       "  <thead>\n",
       "    <tr style=\"text-align: right;\">\n",
       "      <th></th>\n",
       "      <th>Company</th>\n",
       "      <th>Valuation</th>\n",
       "      <th>Date Joined</th>\n",
       "      <th>Industry</th>\n",
       "      <th>City</th>\n",
       "      <th>Country/Region</th>\n",
       "      <th>Continent</th>\n",
       "      <th>Year Founded</th>\n",
       "      <th>Funding</th>\n",
       "      <th>Select Investors</th>\n",
       "      <th>Years To Unicorn</th>\n",
       "    </tr>\n",
       "  </thead>\n",
       "  <tbody>\n",
       "    <tr>\n",
       "      <th>527</th>\n",
       "      <td>InVision</td>\n",
       "      <td>2</td>\n",
       "      <td>2017-11-01</td>\n",
       "      <td>Internet software &amp; services</td>\n",
       "      <td>New York</td>\n",
       "      <td>United States</td>\n",
       "      <td>North America</td>\n",
       "      <td>2020</td>\n",
       "      <td>$349M</td>\n",
       "      <td>FirstMark Capital, Tiger Global Management, IC...</td>\n",
       "      <td>-3</td>\n",
       "    </tr>\n",
       "  </tbody>\n",
       "</table>\n",
       "</div>"
      ]
     },
     "execution_count": 28,
     "metadata": {},
     "output_type": "execute_result"
    }
   ],
   "execution_count": 28
  },
  {
   "metadata": {
    "ExecuteTime": {
     "end_time": "2025-07-29T17:10:01.162769Z",
     "start_time": "2025-07-29T17:10:01.147517Z"
    }
   },
   "cell_type": "code",
   "source": [
    "print(companies.loc[companies['Company']=='InVision', 'Year Founded'])\n",
    "companies.loc[companies['Company']=='InVision', 'Year Founded'] = 2011\n",
    "# an internet search reveals that InVision was founded in 2011"
   ],
   "id": "c43195742868fa86",
   "outputs": [
    {
     "name": "stdout",
     "output_type": "stream",
     "text": [
      "527    2020\n",
      "Name: Year Founded, dtype: int64\n"
     ]
    }
   ],
   "execution_count": 31
  },
  {
   "metadata": {
    "ExecuteTime": {
     "end_time": "2025-07-29T17:10:32.363998Z",
     "start_time": "2025-07-29T17:10:32.348036Z"
    }
   },
   "cell_type": "code",
   "source": [
    "companies[companies['Company']=='InVision']\n",
    "# checking out again"
   ],
   "id": "f2468da401836263",
   "outputs": [
    {
     "data": {
      "text/plain": [
       "      Company  Valuation Date Joined                      Industry      City  \\\n",
       "527  InVision          2  2017-11-01  Internet software & services  New York   \n",
       "\n",
       "    Country/Region      Continent  Year Founded Funding  \\\n",
       "527  United States  North America          2011   $349M   \n",
       "\n",
       "                                      Select Investors  Years To Unicorn  \n",
       "527  FirstMark Capital, Tiger Global Management, IC...                -3  "
      ],
      "text/html": [
       "<div>\n",
       "<style scoped>\n",
       "    .dataframe tbody tr th:only-of-type {\n",
       "        vertical-align: middle;\n",
       "    }\n",
       "\n",
       "    .dataframe tbody tr th {\n",
       "        vertical-align: top;\n",
       "    }\n",
       "\n",
       "    .dataframe thead th {\n",
       "        text-align: right;\n",
       "    }\n",
       "</style>\n",
       "<table border=\"1\" class=\"dataframe\">\n",
       "  <thead>\n",
       "    <tr style=\"text-align: right;\">\n",
       "      <th></th>\n",
       "      <th>Company</th>\n",
       "      <th>Valuation</th>\n",
       "      <th>Date Joined</th>\n",
       "      <th>Industry</th>\n",
       "      <th>City</th>\n",
       "      <th>Country/Region</th>\n",
       "      <th>Continent</th>\n",
       "      <th>Year Founded</th>\n",
       "      <th>Funding</th>\n",
       "      <th>Select Investors</th>\n",
       "      <th>Years To Unicorn</th>\n",
       "    </tr>\n",
       "  </thead>\n",
       "  <tbody>\n",
       "    <tr>\n",
       "      <th>527</th>\n",
       "      <td>InVision</td>\n",
       "      <td>2</td>\n",
       "      <td>2017-11-01</td>\n",
       "      <td>Internet software &amp; services</td>\n",
       "      <td>New York</td>\n",
       "      <td>United States</td>\n",
       "      <td>North America</td>\n",
       "      <td>2011</td>\n",
       "      <td>$349M</td>\n",
       "      <td>FirstMark Capital, Tiger Global Management, IC...</td>\n",
       "      <td>-3</td>\n",
       "    </tr>\n",
       "  </tbody>\n",
       "</table>\n",
       "</div>"
      ]
     },
     "execution_count": 32,
     "metadata": {},
     "output_type": "execute_result"
    }
   ],
   "execution_count": 32
  },
  {
   "metadata": {
    "ExecuteTime": {
     "end_time": "2025-07-29T17:12:35.411211Z",
     "start_time": "2025-07-29T17:12:35.389802Z"
    }
   },
   "cell_type": "code",
   "source": [
    "# recalculating all the values for 'Years To Unicorn'\n",
    "companies[\"Years To Unicorn\"] = companies[\"Date Joined\"].dt.year - companies[\"Year Founded\"]\n",
    "\n",
    "# checking the final result\n",
    "companies.loc[companies['Company']=='InVision', 'Years To Unicorn']"
   ],
   "id": "29082fac8cd95846",
   "outputs": [
    {
     "data": {
      "text/plain": [
       "527    6\n",
       "Name: Years To Unicorn, dtype: int64"
      ]
     },
     "execution_count": 35,
     "metadata": {},
     "output_type": "execute_result"
    }
   ],
   "execution_count": 35
  },
  {
   "metadata": {
    "ExecuteTime": {
     "end_time": "2025-07-29T17:17:21.669993Z",
     "start_time": "2025-07-29T17:17:21.665150Z"
    }
   },
   "cell_type": "code",
   "source": [
    "# a list of all the industry name that should be in the dataset. any labels in the `Industry` column that are not in `industry_list` are misspellings.\n",
    "\n",
    "industry_list = ['Artificial intelligence', 'Other','E-commerce & direct-to-consumer', 'Fintech',\n",
    "       'Internet software & services','Supply chain, logistics, & delivery', 'Consumer & retail',\n",
    "       'Data management & analytics', 'Edtech', 'Health', 'Hardware','Auto & transportation',\n",
    "        'Travel', 'Cybersecurity','Mobile & telecommunications']"
   ],
   "id": "c33ec1be95d19fc1",
   "outputs": [],
   "execution_count": 37
  },
  {
   "metadata": {},
   "cell_type": "code",
   "outputs": [],
   "execution_count": null,
   "source": "# checking which values are in 'Industry' but not in industry_list.",
   "id": "7dbb26c2e11478ea"
  },
  {
   "metadata": {
    "ExecuteTime": {
     "end_time": "2025-07-29T17:36:37.612158Z",
     "start_time": "2025-07-29T17:36:37.594604Z"
    }
   },
   "cell_type": "code",
   "source": [
    "# first way\n",
    "set(companies['Industry']) - set(industry_list)"
   ],
   "id": "11408cdfae4cb2f4",
   "outputs": [
    {
     "data": {
      "text/plain": [
       "{'Artificial Intelligence', 'Data management and analytics', 'FinTech'}"
      ]
     },
     "execution_count": 39,
     "metadata": {},
     "output_type": "execute_result"
    }
   ],
   "execution_count": 39
  },
  {
   "metadata": {
    "ExecuteTime": {
     "end_time": "2025-07-29T17:37:22.452031Z",
     "start_time": "2025-07-29T17:37:22.423019Z"
    }
   },
   "cell_type": "code",
   "source": [
    "# second way\n",
    "mask = ~companies['Industry'].isin(industry_list)\n",
    "companies[mask][\"Industry\"].unique()"
   ],
   "id": "5a64574431ee3252",
   "outputs": [
    {
     "data": {
      "text/plain": [
       "array(['FinTech', 'Data management and analytics',\n",
       "       'Artificial Intelligence'], dtype=object)"
      ]
     },
     "execution_count": 40,
     "metadata": {},
     "output_type": "execute_result"
    }
   ],
   "execution_count": 40
  },
  {
   "metadata": {
    "ExecuteTime": {
     "end_time": "2025-07-29T17:49:31.741142Z",
     "start_time": "2025-07-29T17:49:31.726397Z"
    }
   },
   "cell_type": "code",
   "source": [
    "## correcting the bad entries with 'replace()' method.\n",
    "\n",
    "# companies[\"Industry\"] = companies[\"Industry\"].replace(\"Artificial Intelligence\", \"Artificial intelligence\")\n",
    "#\n",
    "# companies[\"Industry\"] = companies[\"Industry\"].replace(\"Data management and analytics\", \"Data management & analytics\")\n",
    "#\n",
    "# companies[\"Industry\"] = companies[\"Industry\"].replace(\"FinTech\", \"Fintech\")\n",
    "\n",
    "\n",
    "## a way simpler and way shorter way to do this operation:\n",
    "\n",
    "replacement_dict = {\n",
    "    \"Artificial Intelligence\" : \"Artificial intelligence\",\n",
    "    \"Data management and analytics\" : \"Data management & analytics\",\n",
    "    \"FinTech\" : \"Fintech\",\n",
    "}\n",
    "\n",
    "companies[\"Industry\"] = companies[\"Industry\"].replace(replacement_dict)"
   ],
   "id": "59ce4b5f4e90c3d6",
   "outputs": [],
   "execution_count": 51
  },
  {
   "metadata": {
    "ExecuteTime": {
     "end_time": "2025-07-29T17:49:33.985338Z",
     "start_time": "2025-07-29T17:49:33.979789Z"
    }
   },
   "cell_type": "code",
   "source": [
    "# checking if there are andy misspelling values still\n",
    "set(companies['Industry']) - set(industry_list)"
   ],
   "id": "78ff84a412f45d15",
   "outputs": [
    {
     "data": {
      "text/plain": [
       "set()"
      ]
     },
     "execution_count": 52,
     "metadata": {},
     "output_type": "execute_result"
    }
   ],
   "execution_count": 52
  }
 ],
 "metadata": {
  "kernelspec": {
   "display_name": "Python 3",
   "language": "python",
   "name": "python3"
  },
  "language_info": {
   "codemirror_mode": {
    "name": "ipython",
    "version": 2
   },
   "file_extension": ".py",
   "mimetype": "text/x-python",
   "name": "python",
   "nbconvert_exporter": "python",
   "pygments_lexer": "ipython2",
   "version": "2.7.6"
  }
 },
 "nbformat": 4,
 "nbformat_minor": 5
}
