{
 "cells": [
  {
   "cell_type": "code",
   "id": "initial_id",
   "metadata": {
    "collapsed": true,
    "ExecuteTime": {
     "end_time": "2025-07-26T14:56:33.806390Z",
     "start_time": "2025-07-26T14:56:33.804755Z"
    }
   },
   "source": [
    "import pandas as pd\n",
    "import numpy as np\n",
    "import seaborn as sns\n",
    "import datetime\n",
    "from matplotlib import pyplot as plt"
   ],
   "outputs": [],
   "execution_count": 1
  },
  {
   "metadata": {
    "ExecuteTime": {
     "end_time": "2025-07-26T14:56:34.211187Z",
     "start_time": "2025-07-26T14:56:33.816599Z"
    }
   },
   "cell_type": "code",
   "source": "df = pd.read_csv(\"eda_missing_data_dataset1.csv\")",
   "id": "13951229ff9c1084",
   "outputs": [],
   "execution_count": 2
  },
  {
   "metadata": {
    "ExecuteTime": {
     "end_time": "2025-07-26T14:56:34.320497Z",
     "start_time": "2025-07-26T14:56:34.311777Z"
    }
   },
   "cell_type": "code",
   "source": "df.head()",
   "id": "c9b7d86534230d3c",
   "outputs": [
    {
     "data": {
      "text/plain": [
       "         date  center_point_geom  longitude  latitude  number_of_strikes\n",
       "0  2018-08-01  POINT(-81.6 22.6)      -81.6      22.6                 48\n",
       "1  2018-08-01  POINT(-81.1 22.6)      -81.1      22.6                 32\n",
       "2  2018-08-01  POINT(-80.9 22.6)      -80.9      22.6                118\n",
       "3  2018-08-01  POINT(-80.8 22.6)      -80.8      22.6                 69\n",
       "4  2018-08-01  POINT(-98.4 22.8)      -98.4      22.8                 44"
      ],
      "text/html": [
       "<div>\n",
       "<style scoped>\n",
       "    .dataframe tbody tr th:only-of-type {\n",
       "        vertical-align: middle;\n",
       "    }\n",
       "\n",
       "    .dataframe tbody tr th {\n",
       "        vertical-align: top;\n",
       "    }\n",
       "\n",
       "    .dataframe thead th {\n",
       "        text-align: right;\n",
       "    }\n",
       "</style>\n",
       "<table border=\"1\" class=\"dataframe\">\n",
       "  <thead>\n",
       "    <tr style=\"text-align: right;\">\n",
       "      <th></th>\n",
       "      <th>date</th>\n",
       "      <th>center_point_geom</th>\n",
       "      <th>longitude</th>\n",
       "      <th>latitude</th>\n",
       "      <th>number_of_strikes</th>\n",
       "    </tr>\n",
       "  </thead>\n",
       "  <tbody>\n",
       "    <tr>\n",
       "      <th>0</th>\n",
       "      <td>2018-08-01</td>\n",
       "      <td>POINT(-81.6 22.6)</td>\n",
       "      <td>-81.6</td>\n",
       "      <td>22.6</td>\n",
       "      <td>48</td>\n",
       "    </tr>\n",
       "    <tr>\n",
       "      <th>1</th>\n",
       "      <td>2018-08-01</td>\n",
       "      <td>POINT(-81.1 22.6)</td>\n",
       "      <td>-81.1</td>\n",
       "      <td>22.6</td>\n",
       "      <td>32</td>\n",
       "    </tr>\n",
       "    <tr>\n",
       "      <th>2</th>\n",
       "      <td>2018-08-01</td>\n",
       "      <td>POINT(-80.9 22.6)</td>\n",
       "      <td>-80.9</td>\n",
       "      <td>22.6</td>\n",
       "      <td>118</td>\n",
       "    </tr>\n",
       "    <tr>\n",
       "      <th>3</th>\n",
       "      <td>2018-08-01</td>\n",
       "      <td>POINT(-80.8 22.6)</td>\n",
       "      <td>-80.8</td>\n",
       "      <td>22.6</td>\n",
       "      <td>69</td>\n",
       "    </tr>\n",
       "    <tr>\n",
       "      <th>4</th>\n",
       "      <td>2018-08-01</td>\n",
       "      <td>POINT(-98.4 22.8)</td>\n",
       "      <td>-98.4</td>\n",
       "      <td>22.8</td>\n",
       "      <td>44</td>\n",
       "    </tr>\n",
       "  </tbody>\n",
       "</table>\n",
       "</div>"
      ]
     },
     "execution_count": 3,
     "metadata": {},
     "output_type": "execute_result"
    }
   ],
   "execution_count": 3
  },
  {
   "metadata": {
    "ExecuteTime": {
     "end_time": "2025-07-26T14:56:34.349487Z",
     "start_time": "2025-07-26T14:56:34.345015Z"
    }
   },
   "cell_type": "code",
   "source": "df.shape",
   "id": "92f6419f2d874793",
   "outputs": [
    {
     "data": {
      "text/plain": [
       "(717530, 5)"
      ]
     },
     "execution_count": 4,
     "metadata": {},
     "output_type": "execute_result"
    }
   ],
   "execution_count": 4
  },
  {
   "metadata": {
    "ExecuteTime": {
     "end_time": "2025-07-26T14:56:34.794392Z",
     "start_time": "2025-07-26T14:56:34.518377Z"
    }
   },
   "cell_type": "code",
   "source": "df_zip = pd.read_csv(\"eda_missing_data_dataset2.csv\")",
   "id": "d185acc1d7f890a3",
   "outputs": [],
   "execution_count": 5
  },
  {
   "metadata": {
    "ExecuteTime": {
     "end_time": "2025-07-26T14:56:34.857947Z",
     "start_time": "2025-07-26T14:56:34.810969Z"
    }
   },
   "cell_type": "code",
   "source": "df_zip.info()",
   "id": "b6d72d928ae14989",
   "outputs": [
    {
     "name": "stdout",
     "output_type": "stream",
     "text": [
      "<class 'pandas.core.frame.DataFrame'>\n",
      "RangeIndex: 323700 entries, 0 to 323699\n",
      "Data columns (total 7 columns):\n",
      " #   Column             Non-Null Count   Dtype \n",
      "---  ------             --------------   ----- \n",
      " 0   date               323700 non-null  object\n",
      " 1   zip_code           323700 non-null  int64 \n",
      " 2   city               323700 non-null  object\n",
      " 3   state              323700 non-null  object\n",
      " 4   state_code         323700 non-null  object\n",
      " 5   center_point_geom  323700 non-null  object\n",
      " 6   number_of_strikes  323700 non-null  int64 \n",
      "dtypes: int64(2), object(5)\n",
      "memory usage: 17.3+ MB\n"
     ]
    }
   ],
   "execution_count": 6
  },
  {
   "metadata": {
    "ExecuteTime": {
     "end_time": "2025-07-26T14:56:34.883879Z",
     "start_time": "2025-07-26T14:56:34.880443Z"
    }
   },
   "cell_type": "code",
   "source": "df_zip.shape",
   "id": "4a0aa9f6d1021094",
   "outputs": [
    {
     "data": {
      "text/plain": [
       "(323700, 7)"
      ]
     },
     "execution_count": 7,
     "metadata": {},
     "output_type": "execute_result"
    }
   ],
   "execution_count": 7
  },
  {
   "metadata": {
    "ExecuteTime": {
     "end_time": "2025-07-26T14:56:50.366389Z",
     "start_time": "2025-07-26T14:56:50.084371Z"
    }
   },
   "cell_type": "code",
   "source": "df_joined = df.merge(df_zip, how=\"left\", on=[\"date\", \"center_point_geom\"] )",
   "id": "249268e86b0c1888",
   "outputs": [],
   "execution_count": 14
  },
  {
   "metadata": {
    "ExecuteTime": {
     "end_time": "2025-07-26T14:56:45.901465Z",
     "start_time": "2025-07-26T14:56:45.808647Z"
    }
   },
   "cell_type": "code",
   "source": "df_joined.info()\n",
   "id": "71fcc6a9de6e2719",
   "outputs": [
    {
     "name": "stdout",
     "output_type": "stream",
     "text": [
      "<class 'pandas.core.frame.DataFrame'>\n",
      "RangeIndex: 717530 entries, 0 to 717529\n",
      "Data columns (total 10 columns):\n",
      " #   Column               Non-Null Count   Dtype  \n",
      "---  ------               --------------   -----  \n",
      " 0   date                 717530 non-null  object \n",
      " 1   center_point_geom    717530 non-null  object \n",
      " 2   longitude            717530 non-null  float64\n",
      " 3   latitude             717530 non-null  float64\n",
      " 4   number_of_strikes_x  717530 non-null  int64  \n",
      " 5   zip_code             323700 non-null  float64\n",
      " 6   city                 323700 non-null  object \n",
      " 7   state                323700 non-null  object \n",
      " 8   state_code           323700 non-null  object \n",
      " 9   number_of_strikes_y  323700 non-null  float64\n",
      "dtypes: float64(4), int64(1), object(5)\n",
      "memory usage: 54.7+ MB\n"
     ]
    }
   ],
   "execution_count": 12
  },
  {
   "metadata": {
    "ExecuteTime": {
     "end_time": "2025-07-26T15:19:04.209343Z",
     "start_time": "2025-07-26T15:19:04.140519Z"
    }
   },
   "cell_type": "code",
   "source": [
    "df_null_geo = df_joined[pd.isnull(df_joined.state_code)]\n",
    "df_null_geo.shape"
   ],
   "id": "91d6a35068480c33",
   "outputs": [
    {
     "data": {
      "text/plain": [
       "(393830, 10)"
      ]
     },
     "execution_count": 18,
     "metadata": {},
     "output_type": "execute_result"
    }
   ],
   "execution_count": 18
  },
  {
   "metadata": {
    "ExecuteTime": {
     "end_time": "2025-07-26T15:19:21.489855Z",
     "start_time": "2025-07-26T15:19:21.431334Z"
    }
   },
   "cell_type": "code",
   "source": "df_null_geo.info()",
   "id": "39cf5d45a8c2e56f",
   "outputs": [
    {
     "name": "stdout",
     "output_type": "stream",
     "text": [
      "<class 'pandas.core.frame.DataFrame'>\n",
      "Index: 393830 entries, 0 to 717529\n",
      "Data columns (total 10 columns):\n",
      " #   Column               Non-Null Count   Dtype  \n",
      "---  ------               --------------   -----  \n",
      " 0   date                 393830 non-null  object \n",
      " 1   center_point_geom    393830 non-null  object \n",
      " 2   longitude            393830 non-null  float64\n",
      " 3   latitude             393830 non-null  float64\n",
      " 4   number_of_strikes_x  393830 non-null  int64  \n",
      " 5   zip_code             0 non-null       float64\n",
      " 6   city                 0 non-null       object \n",
      " 7   state                0 non-null       object \n",
      " 8   state_code           0 non-null       object \n",
      " 9   number_of_strikes_y  0 non-null       float64\n",
      "dtypes: float64(4), int64(1), object(5)\n",
      "memory usage: 33.1+ MB\n"
     ]
    }
   ],
   "execution_count": 19
  },
  {
   "metadata": {
    "ExecuteTime": {
     "end_time": "2025-07-26T15:21:37.945438Z",
     "start_time": "2025-07-26T15:21:37.929928Z"
    }
   },
   "cell_type": "code",
   "source": "df_null_geo.head()",
   "id": "33fc211c2ae0b630",
   "outputs": [
    {
     "data": {
      "text/plain": [
       "         date  center_point_geom  longitude  latitude  number_of_strikes_x  \\\n",
       "0  2018-08-01  POINT(-81.6 22.6)      -81.6      22.6                   48   \n",
       "1  2018-08-01  POINT(-81.1 22.6)      -81.1      22.6                   32   \n",
       "2  2018-08-01  POINT(-80.9 22.6)      -80.9      22.6                  118   \n",
       "3  2018-08-01  POINT(-80.8 22.6)      -80.8      22.6                   69   \n",
       "4  2018-08-01  POINT(-98.4 22.8)      -98.4      22.8                   44   \n",
       "\n",
       "   zip_code city state state_code  number_of_strikes_y  \n",
       "0       NaN  NaN   NaN        NaN                  NaN  \n",
       "1       NaN  NaN   NaN        NaN                  NaN  \n",
       "2       NaN  NaN   NaN        NaN                  NaN  \n",
       "3       NaN  NaN   NaN        NaN                  NaN  \n",
       "4       NaN  NaN   NaN        NaN                  NaN  "
      ],
      "text/html": [
       "<div>\n",
       "<style scoped>\n",
       "    .dataframe tbody tr th:only-of-type {\n",
       "        vertical-align: middle;\n",
       "    }\n",
       "\n",
       "    .dataframe tbody tr th {\n",
       "        vertical-align: top;\n",
       "    }\n",
       "\n",
       "    .dataframe thead th {\n",
       "        text-align: right;\n",
       "    }\n",
       "</style>\n",
       "<table border=\"1\" class=\"dataframe\">\n",
       "  <thead>\n",
       "    <tr style=\"text-align: right;\">\n",
       "      <th></th>\n",
       "      <th>date</th>\n",
       "      <th>center_point_geom</th>\n",
       "      <th>longitude</th>\n",
       "      <th>latitude</th>\n",
       "      <th>number_of_strikes_x</th>\n",
       "      <th>zip_code</th>\n",
       "      <th>city</th>\n",
       "      <th>state</th>\n",
       "      <th>state_code</th>\n",
       "      <th>number_of_strikes_y</th>\n",
       "    </tr>\n",
       "  </thead>\n",
       "  <tbody>\n",
       "    <tr>\n",
       "      <th>0</th>\n",
       "      <td>2018-08-01</td>\n",
       "      <td>POINT(-81.6 22.6)</td>\n",
       "      <td>-81.6</td>\n",
       "      <td>22.6</td>\n",
       "      <td>48</td>\n",
       "      <td>NaN</td>\n",
       "      <td>NaN</td>\n",
       "      <td>NaN</td>\n",
       "      <td>NaN</td>\n",
       "      <td>NaN</td>\n",
       "    </tr>\n",
       "    <tr>\n",
       "      <th>1</th>\n",
       "      <td>2018-08-01</td>\n",
       "      <td>POINT(-81.1 22.6)</td>\n",
       "      <td>-81.1</td>\n",
       "      <td>22.6</td>\n",
       "      <td>32</td>\n",
       "      <td>NaN</td>\n",
       "      <td>NaN</td>\n",
       "      <td>NaN</td>\n",
       "      <td>NaN</td>\n",
       "      <td>NaN</td>\n",
       "    </tr>\n",
       "    <tr>\n",
       "      <th>2</th>\n",
       "      <td>2018-08-01</td>\n",
       "      <td>POINT(-80.9 22.6)</td>\n",
       "      <td>-80.9</td>\n",
       "      <td>22.6</td>\n",
       "      <td>118</td>\n",
       "      <td>NaN</td>\n",
       "      <td>NaN</td>\n",
       "      <td>NaN</td>\n",
       "      <td>NaN</td>\n",
       "      <td>NaN</td>\n",
       "    </tr>\n",
       "    <tr>\n",
       "      <th>3</th>\n",
       "      <td>2018-08-01</td>\n",
       "      <td>POINT(-80.8 22.6)</td>\n",
       "      <td>-80.8</td>\n",
       "      <td>22.6</td>\n",
       "      <td>69</td>\n",
       "      <td>NaN</td>\n",
       "      <td>NaN</td>\n",
       "      <td>NaN</td>\n",
       "      <td>NaN</td>\n",
       "      <td>NaN</td>\n",
       "    </tr>\n",
       "    <tr>\n",
       "      <th>4</th>\n",
       "      <td>2018-08-01</td>\n",
       "      <td>POINT(-98.4 22.8)</td>\n",
       "      <td>-98.4</td>\n",
       "      <td>22.8</td>\n",
       "      <td>44</td>\n",
       "      <td>NaN</td>\n",
       "      <td>NaN</td>\n",
       "      <td>NaN</td>\n",
       "      <td>NaN</td>\n",
       "      <td>NaN</td>\n",
       "    </tr>\n",
       "  </tbody>\n",
       "</table>\n",
       "</div>"
      ]
     },
     "execution_count": 20,
     "metadata": {},
     "output_type": "execute_result"
    }
   ],
   "execution_count": 20
  },
  {
   "metadata": {
    "ExecuteTime": {
     "end_time": "2025-07-26T15:23:19.544811Z",
     "start_time": "2025-07-26T15:23:19.487966Z"
    }
   },
   "cell_type": "code",
   "source": [
    "top_missing = df_null_geo[['latitude','longitude','number_of_strikes_x']\n",
    "            ].groupby(['latitude','longitude']\n",
    "                      ).sum().sort_values('number_of_strikes_x',ascending=False).reset_index()\n",
    "top_missing.head(10)"
   ],
   "id": "daa637f17b728640",
   "outputs": [
    {
     "data": {
      "text/plain": [
       "   latitude  longitude  number_of_strikes_x\n",
       "0      22.4      -84.2                 3841\n",
       "1      22.9      -82.9                 3184\n",
       "2      22.4      -84.3                 2999\n",
       "3      22.9      -83.0                 2754\n",
       "4      22.5      -84.1                 2746\n",
       "5      22.5      -84.2                 2738\n",
       "6      22.3      -81.0                 2680\n",
       "7      22.9      -82.4                 2652\n",
       "8      22.9      -82.3                 2618\n",
       "9      22.3      -84.3                 2551"
      ],
      "text/html": [
       "<div>\n",
       "<style scoped>\n",
       "    .dataframe tbody tr th:only-of-type {\n",
       "        vertical-align: middle;\n",
       "    }\n",
       "\n",
       "    .dataframe tbody tr th {\n",
       "        vertical-align: top;\n",
       "    }\n",
       "\n",
       "    .dataframe thead th {\n",
       "        text-align: right;\n",
       "    }\n",
       "</style>\n",
       "<table border=\"1\" class=\"dataframe\">\n",
       "  <thead>\n",
       "    <tr style=\"text-align: right;\">\n",
       "      <th></th>\n",
       "      <th>latitude</th>\n",
       "      <th>longitude</th>\n",
       "      <th>number_of_strikes_x</th>\n",
       "    </tr>\n",
       "  </thead>\n",
       "  <tbody>\n",
       "    <tr>\n",
       "      <th>0</th>\n",
       "      <td>22.4</td>\n",
       "      <td>-84.2</td>\n",
       "      <td>3841</td>\n",
       "    </tr>\n",
       "    <tr>\n",
       "      <th>1</th>\n",
       "      <td>22.9</td>\n",
       "      <td>-82.9</td>\n",
       "      <td>3184</td>\n",
       "    </tr>\n",
       "    <tr>\n",
       "      <th>2</th>\n",
       "      <td>22.4</td>\n",
       "      <td>-84.3</td>\n",
       "      <td>2999</td>\n",
       "    </tr>\n",
       "    <tr>\n",
       "      <th>3</th>\n",
       "      <td>22.9</td>\n",
       "      <td>-83.0</td>\n",
       "      <td>2754</td>\n",
       "    </tr>\n",
       "    <tr>\n",
       "      <th>4</th>\n",
       "      <td>22.5</td>\n",
       "      <td>-84.1</td>\n",
       "      <td>2746</td>\n",
       "    </tr>\n",
       "    <tr>\n",
       "      <th>5</th>\n",
       "      <td>22.5</td>\n",
       "      <td>-84.2</td>\n",
       "      <td>2738</td>\n",
       "    </tr>\n",
       "    <tr>\n",
       "      <th>6</th>\n",
       "      <td>22.3</td>\n",
       "      <td>-81.0</td>\n",
       "      <td>2680</td>\n",
       "    </tr>\n",
       "    <tr>\n",
       "      <th>7</th>\n",
       "      <td>22.9</td>\n",
       "      <td>-82.4</td>\n",
       "      <td>2652</td>\n",
       "    </tr>\n",
       "    <tr>\n",
       "      <th>8</th>\n",
       "      <td>22.9</td>\n",
       "      <td>-82.3</td>\n",
       "      <td>2618</td>\n",
       "    </tr>\n",
       "    <tr>\n",
       "      <th>9</th>\n",
       "      <td>22.3</td>\n",
       "      <td>-84.3</td>\n",
       "      <td>2551</td>\n",
       "    </tr>\n",
       "  </tbody>\n",
       "</table>\n",
       "</div>"
      ]
     },
     "execution_count": 23,
     "metadata": {},
     "output_type": "execute_result"
    }
   ],
   "execution_count": 23
  },
  {
   "metadata": {
    "ExecuteTime": {
     "end_time": "2025-07-26T15:28:39.015354Z",
     "start_time": "2025-07-26T15:28:38.979054Z"
    }
   },
   "cell_type": "code",
   "source": [
    "import plotly.express as px\n",
    "fig = px.scatter_geo(top_missing[top_missing.number_of_strikes_x>=300],\n",
    "                    lat=\"latitude\",\n",
    "                    lon=\"longitude\",\n",
    "                    size=\"number_of_strikes_x\")\n",
    "fig.update_layout(\n",
    "    title_text = 'Missing data',\n",
    "    geo_scope = 'usa',\n",
    ")\n",
    "\n",
    "fig.show()"
   ],
   "id": "1bd8de483823ab92",
   "outputs": [
    {
     "data": {
      "application/vnd.plotly.v1+json": {
       "data": [
        {
         "geo": "geo",
         "hovertemplate": "number_of_strikes_x=%{marker.size}<br>latitude=%{lat}<br>longitude=%{lon}<extra></extra>",
         "lat": {
          "dtype": "f8",
          "bdata": "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"
         },
         "legendgroup": "",
         "lon": {
          "dtype": "f8",
          "bdata": "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"
         },
         "marker": {
          "color": "#636efa",
          "size": {
           "dtype": "i2",
           "bdata": "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"
          },
          "sizemode": "area",
          "sizeref": 9.6025,
          "symbol": "circle"
         },
         "mode": "markers",
         "name": "",
         "showlegend": false,
         "type": "scattergeo"
        }
       ],
       "layout": {
        "template": {
         "data": {
          "histogram2dcontour": [
           {
            "type": "histogram2dcontour",
            "colorbar": {
             "outlinewidth": 0,
             "ticks": ""
            },
            "colorscale": [
             [
              0.0,
              "#0d0887"
             ],
             [
              0.1111111111111111,
              "#46039f"
             ],
             [
              0.2222222222222222,
              "#7201a8"
             ],
             [
              0.3333333333333333,
              "#9c179e"
             ],
             [
              0.4444444444444444,
              "#bd3786"
             ],
             [
              0.5555555555555556,
              "#d8576b"
             ],
             [
              0.6666666666666666,
              "#ed7953"
             ],
             [
              0.7777777777777778,
              "#fb9f3a"
             ],
             [
              0.8888888888888888,
              "#fdca26"
             ],
             [
              1.0,
              "#f0f921"
             ]
            ]
           }
          ],
          "choropleth": [
           {
            "type": "choropleth",
            "colorbar": {
             "outlinewidth": 0,
             "ticks": ""
            }
           }
          ],
          "histogram2d": [
           {
            "type": "histogram2d",
            "colorbar": {
             "outlinewidth": 0,
             "ticks": ""
            },
            "colorscale": [
             [
              0.0,
              "#0d0887"
             ],
             [
              0.1111111111111111,
              "#46039f"
             ],
             [
              0.2222222222222222,
              "#7201a8"
             ],
             [
              0.3333333333333333,
              "#9c179e"
             ],
             [
              0.4444444444444444,
              "#bd3786"
             ],
             [
              0.5555555555555556,
              "#d8576b"
             ],
             [
              0.6666666666666666,
              "#ed7953"
             ],
             [
              0.7777777777777778,
              "#fb9f3a"
             ],
             [
              0.8888888888888888,
              "#fdca26"
             ],
             [
              1.0,
              "#f0f921"
             ]
            ]
           }
          ],
          "heatmap": [
           {
            "type": "heatmap",
            "colorbar": {
             "outlinewidth": 0,
             "ticks": ""
            },
            "colorscale": [
             [
              0.0,
              "#0d0887"
             ],
             [
              0.1111111111111111,
              "#46039f"
             ],
             [
              0.2222222222222222,
              "#7201a8"
             ],
             [
              0.3333333333333333,
              "#9c179e"
             ],
             [
              0.4444444444444444,
              "#bd3786"
             ],
             [
              0.5555555555555556,
              "#d8576b"
             ],
             [
              0.6666666666666666,
              "#ed7953"
             ],
             [
              0.7777777777777778,
              "#fb9f3a"
             ],
             [
              0.8888888888888888,
              "#fdca26"
             ],
             [
              1.0,
              "#f0f921"
             ]
            ]
           }
          ],
          "contourcarpet": [
           {
            "type": "contourcarpet",
            "colorbar": {
             "outlinewidth": 0,
             "ticks": ""
            }
           }
          ],
          "contour": [
           {
            "type": "contour",
            "colorbar": {
             "outlinewidth": 0,
             "ticks": ""
            },
            "colorscale": [
             [
              0.0,
              "#0d0887"
             ],
             [
              0.1111111111111111,
              "#46039f"
             ],
             [
              0.2222222222222222,
              "#7201a8"
             ],
             [
              0.3333333333333333,
              "#9c179e"
             ],
             [
              0.4444444444444444,
              "#bd3786"
             ],
             [
              0.5555555555555556,
              "#d8576b"
             ],
             [
              0.6666666666666666,
              "#ed7953"
             ],
             [
              0.7777777777777778,
              "#fb9f3a"
             ],
             [
              0.8888888888888888,
              "#fdca26"
             ],
             [
              1.0,
              "#f0f921"
             ]
            ]
           }
          ],
          "surface": [
           {
            "type": "surface",
            "colorbar": {
             "outlinewidth": 0,
             "ticks": ""
            },
            "colorscale": [
             [
              0.0,
              "#0d0887"
             ],
             [
              0.1111111111111111,
              "#46039f"
             ],
             [
              0.2222222222222222,
              "#7201a8"
             ],
             [
              0.3333333333333333,
              "#9c179e"
             ],
             [
              0.4444444444444444,
              "#bd3786"
             ],
             [
              0.5555555555555556,
              "#d8576b"
             ],
             [
              0.6666666666666666,
              "#ed7953"
             ],
             [
              0.7777777777777778,
              "#fb9f3a"
             ],
             [
              0.8888888888888888,
              "#fdca26"
             ],
             [
              1.0,
              "#f0f921"
             ]
            ]
           }
          ],
          "mesh3d": [
           {
            "type": "mesh3d",
            "colorbar": {
             "outlinewidth": 0,
             "ticks": ""
            }
           }
          ],
          "scatter": [
           {
            "fillpattern": {
             "fillmode": "overlay",
             "size": 10,
             "solidity": 0.2
            },
            "type": "scatter"
           }
          ],
          "parcoords": [
           {
            "type": "parcoords",
            "line": {
             "colorbar": {
              "outlinewidth": 0,
              "ticks": ""
             }
            }
           }
          ],
          "scatterpolargl": [
           {
            "type": "scatterpolargl",
            "marker": {
             "colorbar": {
              "outlinewidth": 0,
              "ticks": ""
             }
            }
           }
          ],
          "bar": [
           {
            "error_x": {
             "color": "#2a3f5f"
            },
            "error_y": {
             "color": "#2a3f5f"
            },
            "marker": {
             "line": {
              "color": "#E5ECF6",
              "width": 0.5
             },
             "pattern": {
              "fillmode": "overlay",
              "size": 10,
              "solidity": 0.2
             }
            },
            "type": "bar"
           }
          ],
          "scattergeo": [
           {
            "type": "scattergeo",
            "marker": {
             "colorbar": {
              "outlinewidth": 0,
              "ticks": ""
             }
            }
           }
          ],
          "scatterpolar": [
           {
            "type": "scatterpolar",
            "marker": {
             "colorbar": {
              "outlinewidth": 0,
              "ticks": ""
             }
            }
           }
          ],
          "histogram": [
           {
            "marker": {
             "pattern": {
              "fillmode": "overlay",
              "size": 10,
              "solidity": 0.2
             }
            },
            "type": "histogram"
           }
          ],
          "scattergl": [
           {
            "type": "scattergl",
            "marker": {
             "colorbar": {
              "outlinewidth": 0,
              "ticks": ""
             }
            }
           }
          ],
          "scatter3d": [
           {
            "type": "scatter3d",
            "line": {
             "colorbar": {
              "outlinewidth": 0,
              "ticks": ""
             }
            },
            "marker": {
             "colorbar": {
              "outlinewidth": 0,
              "ticks": ""
             }
            }
           }
          ],
          "scattermap": [
           {
            "type": "scattermap",
            "marker": {
             "colorbar": {
              "outlinewidth": 0,
              "ticks": ""
             }
            }
           }
          ],
          "scattermapbox": [
           {
            "type": "scattermapbox",
            "marker": {
             "colorbar": {
              "outlinewidth": 0,
              "ticks": ""
             }
            }
           }
          ],
          "scatterternary": [
           {
            "type": "scatterternary",
            "marker": {
             "colorbar": {
              "outlinewidth": 0,
              "ticks": ""
             }
            }
           }
          ],
          "scattercarpet": [
           {
            "type": "scattercarpet",
            "marker": {
             "colorbar": {
              "outlinewidth": 0,
              "ticks": ""
             }
            }
           }
          ],
          "carpet": [
           {
            "aaxis": {
             "endlinecolor": "#2a3f5f",
             "gridcolor": "white",
             "linecolor": "white",
             "minorgridcolor": "white",
             "startlinecolor": "#2a3f5f"
            },
            "baxis": {
             "endlinecolor": "#2a3f5f",
             "gridcolor": "white",
             "linecolor": "white",
             "minorgridcolor": "white",
             "startlinecolor": "#2a3f5f"
            },
            "type": "carpet"
           }
          ],
          "table": [
           {
            "cells": {
             "fill": {
              "color": "#EBF0F8"
             },
             "line": {
              "color": "white"
             }
            },
            "header": {
             "fill": {
              "color": "#C8D4E3"
             },
             "line": {
              "color": "white"
             }
            },
            "type": "table"
           }
          ],
          "barpolar": [
           {
            "marker": {
             "line": {
              "color": "#E5ECF6",
              "width": 0.5
             },
             "pattern": {
              "fillmode": "overlay",
              "size": 10,
              "solidity": 0.2
             }
            },
            "type": "barpolar"
           }
          ],
          "pie": [
           {
            "automargin": true,
            "type": "pie"
           }
          ]
         },
         "layout": {
          "autotypenumbers": "strict",
          "colorway": [
           "#636efa",
           "#EF553B",
           "#00cc96",
           "#ab63fa",
           "#FFA15A",
           "#19d3f3",
           "#FF6692",
           "#B6E880",
           "#FF97FF",
           "#FECB52"
          ],
          "font": {
           "color": "#2a3f5f"
          },
          "hovermode": "closest",
          "hoverlabel": {
           "align": "left"
          },
          "paper_bgcolor": "white",
          "plot_bgcolor": "#E5ECF6",
          "polar": {
           "bgcolor": "#E5ECF6",
           "angularaxis": {
            "gridcolor": "white",
            "linecolor": "white",
            "ticks": ""
           },
           "radialaxis": {
            "gridcolor": "white",
            "linecolor": "white",
            "ticks": ""
           }
          },
          "ternary": {
           "bgcolor": "#E5ECF6",
           "aaxis": {
            "gridcolor": "white",
            "linecolor": "white",
            "ticks": ""
           },
           "baxis": {
            "gridcolor": "white",
            "linecolor": "white",
            "ticks": ""
           },
           "caxis": {
            "gridcolor": "white",
            "linecolor": "white",
            "ticks": ""
           }
          },
          "coloraxis": {
           "colorbar": {
            "outlinewidth": 0,
            "ticks": ""
           }
          },
          "colorscale": {
           "sequential": [
            [
             0.0,
             "#0d0887"
            ],
            [
             0.1111111111111111,
             "#46039f"
            ],
            [
             0.2222222222222222,
             "#7201a8"
            ],
            [
             0.3333333333333333,
             "#9c179e"
            ],
            [
             0.4444444444444444,
             "#bd3786"
            ],
            [
             0.5555555555555556,
             "#d8576b"
            ],
            [
             0.6666666666666666,
             "#ed7953"
            ],
            [
             0.7777777777777778,
             "#fb9f3a"
            ],
            [
             0.8888888888888888,
             "#fdca26"
            ],
            [
             1.0,
             "#f0f921"
            ]
           ],
           "sequentialminus": [
            [
             0.0,
             "#0d0887"
            ],
            [
             0.1111111111111111,
             "#46039f"
            ],
            [
             0.2222222222222222,
             "#7201a8"
            ],
            [
             0.3333333333333333,
             "#9c179e"
            ],
            [
             0.4444444444444444,
             "#bd3786"
            ],
            [
             0.5555555555555556,
             "#d8576b"
            ],
            [
             0.6666666666666666,
             "#ed7953"
            ],
            [
             0.7777777777777778,
             "#fb9f3a"
            ],
            [
             0.8888888888888888,
             "#fdca26"
            ],
            [
             1.0,
             "#f0f921"
            ]
           ],
           "diverging": [
            [
             0,
             "#8e0152"
            ],
            [
             0.1,
             "#c51b7d"
            ],
            [
             0.2,
             "#de77ae"
            ],
            [
             0.3,
             "#f1b6da"
            ],
            [
             0.4,
             "#fde0ef"
            ],
            [
             0.5,
             "#f7f7f7"
            ],
            [
             0.6,
             "#e6f5d0"
            ],
            [
             0.7,
             "#b8e186"
            ],
            [
             0.8,
             "#7fbc41"
            ],
            [
             0.9,
             "#4d9221"
            ],
            [
             1,
             "#276419"
            ]
           ]
          },
          "xaxis": {
           "gridcolor": "white",
           "linecolor": "white",
           "ticks": "",
           "title": {
            "standoff": 15
           },
           "zerolinecolor": "white",
           "automargin": true,
           "zerolinewidth": 2
          },
          "yaxis": {
           "gridcolor": "white",
           "linecolor": "white",
           "ticks": "",
           "title": {
            "standoff": 15
           },
           "zerolinecolor": "white",
           "automargin": true,
           "zerolinewidth": 2
          },
          "scene": {
           "xaxis": {
            "backgroundcolor": "#E5ECF6",
            "gridcolor": "white",
            "linecolor": "white",
            "showbackground": true,
            "ticks": "",
            "zerolinecolor": "white",
            "gridwidth": 2
           },
           "yaxis": {
            "backgroundcolor": "#E5ECF6",
            "gridcolor": "white",
            "linecolor": "white",
            "showbackground": true,
            "ticks": "",
            "zerolinecolor": "white",
            "gridwidth": 2
           },
           "zaxis": {
            "backgroundcolor": "#E5ECF6",
            "gridcolor": "white",
            "linecolor": "white",
            "showbackground": true,
            "ticks": "",
            "zerolinecolor": "white",
            "gridwidth": 2
           }
          },
          "shapedefaults": {
           "line": {
            "color": "#2a3f5f"
           }
          },
          "annotationdefaults": {
           "arrowcolor": "#2a3f5f",
           "arrowhead": 0,
           "arrowwidth": 1
          },
          "geo": {
           "bgcolor": "white",
           "landcolor": "#E5ECF6",
           "subunitcolor": "white",
           "showland": true,
           "showlakes": true,
           "lakecolor": "white"
          },
          "title": {
           "x": 0.05
          },
          "mapbox": {
           "style": "light"
          }
         }
        },
        "geo": {
         "domain": {
          "x": [
           0.0,
           1.0
          ],
          "y": [
           0.0,
           1.0
          ]
         },
         "center": {},
         "scope": "usa"
        },
        "legend": {
         "tracegroupgap": 0,
         "itemsizing": "constant"
        },
        "margin": {
         "t": 60
        },
        "title": {
         "text": "Missing data"
        }
       },
       "config": {
        "plotlyServerURL": "https://plot.ly"
       }
      }
     },
     "metadata": {},
     "output_type": "display_data"
    }
   ],
   "execution_count": 27
  }
 ],
 "metadata": {
  "kernelspec": {
   "display_name": "Python 3",
   "language": "python",
   "name": "python3"
  },
  "language_info": {
   "codemirror_mode": {
    "name": "ipython",
    "version": 2
   },
   "file_extension": ".py",
   "mimetype": "text/x-python",
   "name": "python",
   "nbconvert_exporter": "python",
   "pygments_lexer": "ipython2",
   "version": "2.7.6"
  }
 },
 "nbformat": 4,
 "nbformat_minor": 5
}
