{
 "cells": [
  {
   "cell_type": "code",
   "id": "initial_id",
   "metadata": {
    "collapsed": true,
    "ExecuteTime": {
     "end_time": "2025-07-25T17:41:03.952038Z",
     "start_time": "2025-07-25T17:41:03.950218Z"
    }
   },
   "source": [
    "import pandas as pd\n",
    "import numpy as np\n",
    "import seaborn as sns\n",
    "import datetime\n",
    "from matplotlib import pyplot as plt"
   ],
   "outputs": [],
   "execution_count": 1
  },
  {
   "metadata": {
    "ExecuteTime": {
     "end_time": "2025-07-25T17:41:30.763260Z",
     "start_time": "2025-07-25T17:41:30.303535Z"
    }
   },
   "cell_type": "code",
   "source": "df = pd.read_csv(\"eda_missing_data_dataset1.csv\")",
   "id": "13951229ff9c1084",
   "outputs": [],
   "execution_count": 2
  },
  {
   "metadata": {
    "ExecuteTime": {
     "end_time": "2025-07-25T17:41:36.423933Z",
     "start_time": "2025-07-25T17:41:36.402401Z"
    }
   },
   "cell_type": "code",
   "source": "df.head()",
   "id": "c9b7d86534230d3c",
   "outputs": [
    {
     "data": {
      "text/plain": [
       "         date  center_point_geom  longitude  latitude  number_of_strikes\n",
       "0  2018-08-01  POINT(-81.6 22.6)      -81.6      22.6                 48\n",
       "1  2018-08-01  POINT(-81.1 22.6)      -81.1      22.6                 32\n",
       "2  2018-08-01  POINT(-80.9 22.6)      -80.9      22.6                118\n",
       "3  2018-08-01  POINT(-80.8 22.6)      -80.8      22.6                 69\n",
       "4  2018-08-01  POINT(-98.4 22.8)      -98.4      22.8                 44"
      ],
      "text/html": [
       "<div>\n",
       "<style scoped>\n",
       "    .dataframe tbody tr th:only-of-type {\n",
       "        vertical-align: middle;\n",
       "    }\n",
       "\n",
       "    .dataframe tbody tr th {\n",
       "        vertical-align: top;\n",
       "    }\n",
       "\n",
       "    .dataframe thead th {\n",
       "        text-align: right;\n",
       "    }\n",
       "</style>\n",
       "<table border=\"1\" class=\"dataframe\">\n",
       "  <thead>\n",
       "    <tr style=\"text-align: right;\">\n",
       "      <th></th>\n",
       "      <th>date</th>\n",
       "      <th>center_point_geom</th>\n",
       "      <th>longitude</th>\n",
       "      <th>latitude</th>\n",
       "      <th>number_of_strikes</th>\n",
       "    </tr>\n",
       "  </thead>\n",
       "  <tbody>\n",
       "    <tr>\n",
       "      <th>0</th>\n",
       "      <td>2018-08-01</td>\n",
       "      <td>POINT(-81.6 22.6)</td>\n",
       "      <td>-81.6</td>\n",
       "      <td>22.6</td>\n",
       "      <td>48</td>\n",
       "    </tr>\n",
       "    <tr>\n",
       "      <th>1</th>\n",
       "      <td>2018-08-01</td>\n",
       "      <td>POINT(-81.1 22.6)</td>\n",
       "      <td>-81.1</td>\n",
       "      <td>22.6</td>\n",
       "      <td>32</td>\n",
       "    </tr>\n",
       "    <tr>\n",
       "      <th>2</th>\n",
       "      <td>2018-08-01</td>\n",
       "      <td>POINT(-80.9 22.6)</td>\n",
       "      <td>-80.9</td>\n",
       "      <td>22.6</td>\n",
       "      <td>118</td>\n",
       "    </tr>\n",
       "    <tr>\n",
       "      <th>3</th>\n",
       "      <td>2018-08-01</td>\n",
       "      <td>POINT(-80.8 22.6)</td>\n",
       "      <td>-80.8</td>\n",
       "      <td>22.6</td>\n",
       "      <td>69</td>\n",
       "    </tr>\n",
       "    <tr>\n",
       "      <th>4</th>\n",
       "      <td>2018-08-01</td>\n",
       "      <td>POINT(-98.4 22.8)</td>\n",
       "      <td>-98.4</td>\n",
       "      <td>22.8</td>\n",
       "      <td>44</td>\n",
       "    </tr>\n",
       "  </tbody>\n",
       "</table>\n",
       "</div>"
      ]
     },
     "execution_count": 3,
     "metadata": {},
     "output_type": "execute_result"
    }
   ],
   "execution_count": 3
  },
  {
   "metadata": {
    "ExecuteTime": {
     "end_time": "2025-07-25T17:42:48.886867Z",
     "start_time": "2025-07-25T17:42:48.873355Z"
    }
   },
   "cell_type": "code",
   "source": "df.shape",
   "id": "92f6419f2d874793",
   "outputs": [
    {
     "data": {
      "text/plain": [
       "(717530, 5)"
      ]
     },
     "execution_count": 6,
     "metadata": {},
     "output_type": "execute_result"
    }
   ],
   "execution_count": 6
  },
  {
   "metadata": {
    "ExecuteTime": {
     "end_time": "2025-07-25T17:42:01.884976Z",
     "start_time": "2025-07-25T17:42:01.568156Z"
    }
   },
   "cell_type": "code",
   "source": "df_zip = pd.read_csv(\"eda_missing_data_dataset2.csv\")",
   "id": "d185acc1d7f890a3",
   "outputs": [],
   "execution_count": 4
  },
  {
   "metadata": {
    "ExecuteTime": {
     "end_time": "2025-07-25T17:48:01.204725Z",
     "start_time": "2025-07-25T17:48:01.115710Z"
    }
   },
   "cell_type": "code",
   "source": "df_zip.info()",
   "id": "b6d72d928ae14989",
   "outputs": [
    {
     "name": "stdout",
     "output_type": "stream",
     "text": [
      "<class 'pandas.core.frame.DataFrame'>\n",
      "RangeIndex: 323700 entries, 0 to 323699\n",
      "Data columns (total 7 columns):\n",
      " #   Column             Non-Null Count   Dtype \n",
      "---  ------             --------------   ----- \n",
      " 0   date               323700 non-null  object\n",
      " 1   zip_code           323700 non-null  int64 \n",
      " 2   city               323700 non-null  object\n",
      " 3   state              323700 non-null  object\n",
      " 4   state_code         323700 non-null  object\n",
      " 5   center_point_geom  323700 non-null  object\n",
      " 6   number_of_strikes  323700 non-null  int64 \n",
      "dtypes: int64(2), object(5)\n",
      "memory usage: 17.3+ MB\n"
     ]
    }
   ],
   "execution_count": 17
  },
  {
   "metadata": {
    "ExecuteTime": {
     "end_time": "2025-07-25T17:42:57.132711Z",
     "start_time": "2025-07-25T17:42:57.123233Z"
    }
   },
   "cell_type": "code",
   "source": "df_zip.shape",
   "id": "4a0aa9f6d1021094",
   "outputs": [
    {
     "data": {
      "text/plain": [
       "(323700, 7)"
      ]
     },
     "execution_count": 7,
     "metadata": {},
     "output_type": "execute_result"
    }
   ],
   "execution_count": 7
  },
  {
   "metadata": {
    "ExecuteTime": {
     "end_time": "2025-07-25T17:45:47.984637Z",
     "start_time": "2025-07-25T17:45:47.561383Z"
    }
   },
   "cell_type": "code",
   "source": "df_joined = df.merge(df_zip, how=\"left\", on=[\"date\", \"center_point_geom\"] )",
   "id": "249268e86b0c1888",
   "outputs": [],
   "execution_count": 12
  },
  {
   "metadata": {
    "ExecuteTime": {
     "end_time": "2025-07-25T17:47:10.367885Z",
     "start_time": "2025-07-25T17:47:10.343985Z"
    }
   },
   "cell_type": "code",
   "source": "df_joined.sample(5)",
   "id": "970c29e8bd8f121a",
   "outputs": [
    {
     "data": {
      "text/plain": [
       "              date   center_point_geom  longitude  latitude  \\\n",
       "245326  2018-08-10     POINT(-99 20.3)      -99.0      20.3   \n",
       "676966  2018-08-24  POINT(-105.5 26.8)     -105.5      26.8   \n",
       "610906  2018-08-06   POINT(-82.5 38.8)      -82.5      38.8   \n",
       "217007  2018-08-01  POINT(-117.1 38.6)     -117.1      38.6   \n",
       "350127  2018-08-24   POINT(-52.8 42.5)      -52.8      42.5   \n",
       "\n",
       "        number_of_strikes_x  zip_code     city state state_code  \\\n",
       "245326                    2       NaN      NaN   NaN        NaN   \n",
       "676966                   21       NaN      NaN   NaN        NaN   \n",
       "610906                   14   45658.0  Patriot  Ohio         OH   \n",
       "217007                    2       NaN      NaN   NaN        NaN   \n",
       "350127                    3       NaN      NaN   NaN        NaN   \n",
       "\n",
       "        number_of_strikes_y  \n",
       "245326                  NaN  \n",
       "676966                  NaN  \n",
       "610906                 14.0  \n",
       "217007                  NaN  \n",
       "350127                  NaN  "
      ],
      "text/html": [
       "<div>\n",
       "<style scoped>\n",
       "    .dataframe tbody tr th:only-of-type {\n",
       "        vertical-align: middle;\n",
       "    }\n",
       "\n",
       "    .dataframe tbody tr th {\n",
       "        vertical-align: top;\n",
       "    }\n",
       "\n",
       "    .dataframe thead th {\n",
       "        text-align: right;\n",
       "    }\n",
       "</style>\n",
       "<table border=\"1\" class=\"dataframe\">\n",
       "  <thead>\n",
       "    <tr style=\"text-align: right;\">\n",
       "      <th></th>\n",
       "      <th>date</th>\n",
       "      <th>center_point_geom</th>\n",
       "      <th>longitude</th>\n",
       "      <th>latitude</th>\n",
       "      <th>number_of_strikes_x</th>\n",
       "      <th>zip_code</th>\n",
       "      <th>city</th>\n",
       "      <th>state</th>\n",
       "      <th>state_code</th>\n",
       "      <th>number_of_strikes_y</th>\n",
       "    </tr>\n",
       "  </thead>\n",
       "  <tbody>\n",
       "    <tr>\n",
       "      <th>245326</th>\n",
       "      <td>2018-08-10</td>\n",
       "      <td>POINT(-99 20.3)</td>\n",
       "      <td>-99.0</td>\n",
       "      <td>20.3</td>\n",
       "      <td>2</td>\n",
       "      <td>NaN</td>\n",
       "      <td>NaN</td>\n",
       "      <td>NaN</td>\n",
       "      <td>NaN</td>\n",
       "      <td>NaN</td>\n",
       "    </tr>\n",
       "    <tr>\n",
       "      <th>676966</th>\n",
       "      <td>2018-08-24</td>\n",
       "      <td>POINT(-105.5 26.8)</td>\n",
       "      <td>-105.5</td>\n",
       "      <td>26.8</td>\n",
       "      <td>21</td>\n",
       "      <td>NaN</td>\n",
       "      <td>NaN</td>\n",
       "      <td>NaN</td>\n",
       "      <td>NaN</td>\n",
       "      <td>NaN</td>\n",
       "    </tr>\n",
       "    <tr>\n",
       "      <th>610906</th>\n",
       "      <td>2018-08-06</td>\n",
       "      <td>POINT(-82.5 38.8)</td>\n",
       "      <td>-82.5</td>\n",
       "      <td>38.8</td>\n",
       "      <td>14</td>\n",
       "      <td>45658.0</td>\n",
       "      <td>Patriot</td>\n",
       "      <td>Ohio</td>\n",
       "      <td>OH</td>\n",
       "      <td>14.0</td>\n",
       "    </tr>\n",
       "    <tr>\n",
       "      <th>217007</th>\n",
       "      <td>2018-08-01</td>\n",
       "      <td>POINT(-117.1 38.6)</td>\n",
       "      <td>-117.1</td>\n",
       "      <td>38.6</td>\n",
       "      <td>2</td>\n",
       "      <td>NaN</td>\n",
       "      <td>NaN</td>\n",
       "      <td>NaN</td>\n",
       "      <td>NaN</td>\n",
       "      <td>NaN</td>\n",
       "    </tr>\n",
       "    <tr>\n",
       "      <th>350127</th>\n",
       "      <td>2018-08-24</td>\n",
       "      <td>POINT(-52.8 42.5)</td>\n",
       "      <td>-52.8</td>\n",
       "      <td>42.5</td>\n",
       "      <td>3</td>\n",
       "      <td>NaN</td>\n",
       "      <td>NaN</td>\n",
       "      <td>NaN</td>\n",
       "      <td>NaN</td>\n",
       "      <td>NaN</td>\n",
       "    </tr>\n",
       "  </tbody>\n",
       "</table>\n",
       "</div>"
      ]
     },
     "execution_count": 16,
     "metadata": {},
     "output_type": "execute_result"
    }
   ],
   "execution_count": 16
  },
  {
   "metadata": {
    "ExecuteTime": {
     "end_time": "2025-07-25T17:46:26.896325Z",
     "start_time": "2025-07-25T17:46:26.736122Z"
    }
   },
   "cell_type": "code",
   "source": "df_joined.info()\n",
   "id": "71fcc6a9de6e2719",
   "outputs": [
    {
     "name": "stdout",
     "output_type": "stream",
     "text": [
      "<class 'pandas.core.frame.DataFrame'>\n",
      "RangeIndex: 717530 entries, 0 to 717529\n",
      "Data columns (total 10 columns):\n",
      " #   Column               Non-Null Count   Dtype  \n",
      "---  ------               --------------   -----  \n",
      " 0   date                 717530 non-null  object \n",
      " 1   center_point_geom    717530 non-null  object \n",
      " 2   longitude            717530 non-null  float64\n",
      " 3   latitude             717530 non-null  float64\n",
      " 4   number_of_strikes_x  717530 non-null  int64  \n",
      " 5   zip_code             323700 non-null  float64\n",
      " 6   city                 323700 non-null  object \n",
      " 7   state                323700 non-null  object \n",
      " 8   state_code           323700 non-null  object \n",
      " 9   number_of_strikes_y  323700 non-null  float64\n",
      "dtypes: float64(4), int64(1), object(5)\n",
      "memory usage: 54.7+ MB\n"
     ]
    }
   ],
   "execution_count": 14
  }
 ],
 "metadata": {
  "kernelspec": {
   "display_name": "Python 3",
   "language": "python",
   "name": "python3"
  },
  "language_info": {
   "codemirror_mode": {
    "name": "ipython",
    "version": 2
   },
   "file_extension": ".py",
   "mimetype": "text/x-python",
   "name": "python",
   "nbconvert_exporter": "python",
   "pygments_lexer": "ipython2",
   "version": "2.7.6"
  }
 },
 "nbformat": 4,
 "nbformat_minor": 5
}
