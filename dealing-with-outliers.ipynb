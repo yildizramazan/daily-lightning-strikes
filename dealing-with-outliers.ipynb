{
 "cells": [
  {
   "metadata": {
    "ExecuteTime": {
     "end_time": "2025-07-27T18:01:46.694577Z",
     "start_time": "2025-07-27T18:01:46.692659Z"
    }
   },
   "cell_type": "code",
   "source": [
    "import matplotlib.pyplot as plt\n",
    "import pandas as pd\n",
    "import numpy as np\n",
    "import seaborn as sns"
   ],
   "id": "5c30e033504742a4",
   "outputs": [],
   "execution_count": 1
  },
  {
   "cell_type": "code",
   "id": "initial_id",
   "metadata": {
    "collapsed": true,
    "ExecuteTime": {
     "end_time": "2025-07-27T18:03:04.392585Z",
     "start_time": "2025-07-27T18:03:04.369454Z"
    }
   },
   "source": [
    "df = pd.read_csv('eda_outliers_dataset1.csv')\n",
    "df.head(10)"
   ],
   "outputs": [
    {
     "data": {
      "text/plain": [
       "   year  number_of_strikes\n",
       "0  2020           15620068\n",
       "1  2019             209166\n",
       "2  2018           44600989\n",
       "3  2017           35095195\n",
       "4  2016           41582229\n",
       "5  2015           37894191\n",
       "6  2014           34919173\n",
       "7  2013           27600898\n",
       "8  2012           28807552\n",
       "9  2011           31392058"
      ],
      "text/html": [
       "<div>\n",
       "<style scoped>\n",
       "    .dataframe tbody tr th:only-of-type {\n",
       "        vertical-align: middle;\n",
       "    }\n",
       "\n",
       "    .dataframe tbody tr th {\n",
       "        vertical-align: top;\n",
       "    }\n",
       "\n",
       "    .dataframe thead th {\n",
       "        text-align: right;\n",
       "    }\n",
       "</style>\n",
       "<table border=\"1\" class=\"dataframe\">\n",
       "  <thead>\n",
       "    <tr style=\"text-align: right;\">\n",
       "      <th></th>\n",
       "      <th>year</th>\n",
       "      <th>number_of_strikes</th>\n",
       "    </tr>\n",
       "  </thead>\n",
       "  <tbody>\n",
       "    <tr>\n",
       "      <th>0</th>\n",
       "      <td>2020</td>\n",
       "      <td>15620068</td>\n",
       "    </tr>\n",
       "    <tr>\n",
       "      <th>1</th>\n",
       "      <td>2019</td>\n",
       "      <td>209166</td>\n",
       "    </tr>\n",
       "    <tr>\n",
       "      <th>2</th>\n",
       "      <td>2018</td>\n",
       "      <td>44600989</td>\n",
       "    </tr>\n",
       "    <tr>\n",
       "      <th>3</th>\n",
       "      <td>2017</td>\n",
       "      <td>35095195</td>\n",
       "    </tr>\n",
       "    <tr>\n",
       "      <th>4</th>\n",
       "      <td>2016</td>\n",
       "      <td>41582229</td>\n",
       "    </tr>\n",
       "    <tr>\n",
       "      <th>5</th>\n",
       "      <td>2015</td>\n",
       "      <td>37894191</td>\n",
       "    </tr>\n",
       "    <tr>\n",
       "      <th>6</th>\n",
       "      <td>2014</td>\n",
       "      <td>34919173</td>\n",
       "    </tr>\n",
       "    <tr>\n",
       "      <th>7</th>\n",
       "      <td>2013</td>\n",
       "      <td>27600898</td>\n",
       "    </tr>\n",
       "    <tr>\n",
       "      <th>8</th>\n",
       "      <td>2012</td>\n",
       "      <td>28807552</td>\n",
       "    </tr>\n",
       "    <tr>\n",
       "      <th>9</th>\n",
       "      <td>2011</td>\n",
       "      <td>31392058</td>\n",
       "    </tr>\n",
       "  </tbody>\n",
       "</table>\n",
       "</div>"
      ]
     },
     "execution_count": 4,
     "metadata": {},
     "output_type": "execute_result"
    }
   ],
   "execution_count": 4
  },
  {
   "metadata": {
    "ExecuteTime": {
     "end_time": "2025-07-27T18:03:28.404616Z",
     "start_time": "2025-07-27T18:03:28.387681Z"
    }
   },
   "cell_type": "code",
   "source": [
    "def readable_numbers(x):\n",
    "    \"\"\"takes a large number and formats it into K,M to make it more readable\"\"\"\n",
    "    if x >= 1e6:\n",
    "        s = '{:1.1f}M'.format(x*1e-6)\n",
    "    else:\n",
    "        s = '{:1.0f}K'.format(x*1e-3)\n",
    "    return s\n",
    "\n",
    "# Use the readable_numbers() function to create a new column\n",
    "df['number_of_strikes_readable']=df['number_of_strikes'].apply(readable_numbers)\n"
   ],
   "id": "6e51380ff2f5bca9",
   "outputs": [],
   "execution_count": 5
  },
  {
   "metadata": {
    "ExecuteTime": {
     "end_time": "2025-07-27T18:14:54.188401Z",
     "start_time": "2025-07-27T18:14:54.175426Z"
    }
   },
   "cell_type": "code",
   "source": "df",
   "id": "dad752af4538c24c",
   "outputs": [
    {
     "data": {
      "text/plain": [
       "    year  number_of_strikes number_of_strikes_readable\n",
       "0   2020           15620068                      15.6M\n",
       "1   2019             209166                       209K\n",
       "2   2018           44600989                      44.6M\n",
       "3   2017           35095195                      35.1M\n",
       "4   2016           41582229                      41.6M\n",
       "5   2015           37894191                      37.9M\n",
       "6   2014           34919173                      34.9M\n",
       "7   2013           27600898                      27.6M\n",
       "8   2012           28807552                      28.8M\n",
       "9   2011           31392058                      31.4M\n",
       "10  2010           29068965                      29.1M\n",
       "11  2009           30100585                      30.1M\n",
       "12  2008           29790934                      29.8M\n",
       "13  2007           30529064                      30.5M\n",
       "14  2006           33292382                      33.3M\n",
       "15  2005           38168699                      38.2M\n",
       "16  2004           40023951                      40.0M\n",
       "17  2003           39092327                      39.1M\n",
       "18  2002           29916767                      29.9M\n",
       "19  2001           25470095                      25.5M\n",
       "20  2000           26276135                      26.3M\n",
       "21  1999           27758681                      27.8M\n",
       "22  1998           28802221                      28.8M\n",
       "23  1997           26986915                      27.0M\n",
       "24  1996           26190094                      26.2M\n",
       "25  1995           22763540                      22.8M\n",
       "26  1994           25094010                      25.1M\n",
       "27  1993           24206929                      24.2M\n",
       "28  1992           16371876                      16.4M\n",
       "29  1991           16900934                      16.9M\n",
       "30  1990           15839052                      15.8M\n",
       "31  1989           14245186                      14.2M\n",
       "32  1988            9150440                       9.2M\n",
       "33  1987            7378836                       7.4M"
      ],
      "text/html": [
       "<div>\n",
       "<style scoped>\n",
       "    .dataframe tbody tr th:only-of-type {\n",
       "        vertical-align: middle;\n",
       "    }\n",
       "\n",
       "    .dataframe tbody tr th {\n",
       "        vertical-align: top;\n",
       "    }\n",
       "\n",
       "    .dataframe thead th {\n",
       "        text-align: right;\n",
       "    }\n",
       "</style>\n",
       "<table border=\"1\" class=\"dataframe\">\n",
       "  <thead>\n",
       "    <tr style=\"text-align: right;\">\n",
       "      <th></th>\n",
       "      <th>year</th>\n",
       "      <th>number_of_strikes</th>\n",
       "      <th>number_of_strikes_readable</th>\n",
       "    </tr>\n",
       "  </thead>\n",
       "  <tbody>\n",
       "    <tr>\n",
       "      <th>0</th>\n",
       "      <td>2020</td>\n",
       "      <td>15620068</td>\n",
       "      <td>15.6M</td>\n",
       "    </tr>\n",
       "    <tr>\n",
       "      <th>1</th>\n",
       "      <td>2019</td>\n",
       "      <td>209166</td>\n",
       "      <td>209K</td>\n",
       "    </tr>\n",
       "    <tr>\n",
       "      <th>2</th>\n",
       "      <td>2018</td>\n",
       "      <td>44600989</td>\n",
       "      <td>44.6M</td>\n",
       "    </tr>\n",
       "    <tr>\n",
       "      <th>3</th>\n",
       "      <td>2017</td>\n",
       "      <td>35095195</td>\n",
       "      <td>35.1M</td>\n",
       "    </tr>\n",
       "    <tr>\n",
       "      <th>4</th>\n",
       "      <td>2016</td>\n",
       "      <td>41582229</td>\n",
       "      <td>41.6M</td>\n",
       "    </tr>\n",
       "    <tr>\n",
       "      <th>5</th>\n",
       "      <td>2015</td>\n",
       "      <td>37894191</td>\n",
       "      <td>37.9M</td>\n",
       "    </tr>\n",
       "    <tr>\n",
       "      <th>6</th>\n",
       "      <td>2014</td>\n",
       "      <td>34919173</td>\n",
       "      <td>34.9M</td>\n",
       "    </tr>\n",
       "    <tr>\n",
       "      <th>7</th>\n",
       "      <td>2013</td>\n",
       "      <td>27600898</td>\n",
       "      <td>27.6M</td>\n",
       "    </tr>\n",
       "    <tr>\n",
       "      <th>8</th>\n",
       "      <td>2012</td>\n",
       "      <td>28807552</td>\n",
       "      <td>28.8M</td>\n",
       "    </tr>\n",
       "    <tr>\n",
       "      <th>9</th>\n",
       "      <td>2011</td>\n",
       "      <td>31392058</td>\n",
       "      <td>31.4M</td>\n",
       "    </tr>\n",
       "    <tr>\n",
       "      <th>10</th>\n",
       "      <td>2010</td>\n",
       "      <td>29068965</td>\n",
       "      <td>29.1M</td>\n",
       "    </tr>\n",
       "    <tr>\n",
       "      <th>11</th>\n",
       "      <td>2009</td>\n",
       "      <td>30100585</td>\n",
       "      <td>30.1M</td>\n",
       "    </tr>\n",
       "    <tr>\n",
       "      <th>12</th>\n",
       "      <td>2008</td>\n",
       "      <td>29790934</td>\n",
       "      <td>29.8M</td>\n",
       "    </tr>\n",
       "    <tr>\n",
       "      <th>13</th>\n",
       "      <td>2007</td>\n",
       "      <td>30529064</td>\n",
       "      <td>30.5M</td>\n",
       "    </tr>\n",
       "    <tr>\n",
       "      <th>14</th>\n",
       "      <td>2006</td>\n",
       "      <td>33292382</td>\n",
       "      <td>33.3M</td>\n",
       "    </tr>\n",
       "    <tr>\n",
       "      <th>15</th>\n",
       "      <td>2005</td>\n",
       "      <td>38168699</td>\n",
       "      <td>38.2M</td>\n",
       "    </tr>\n",
       "    <tr>\n",
       "      <th>16</th>\n",
       "      <td>2004</td>\n",
       "      <td>40023951</td>\n",
       "      <td>40.0M</td>\n",
       "    </tr>\n",
       "    <tr>\n",
       "      <th>17</th>\n",
       "      <td>2003</td>\n",
       "      <td>39092327</td>\n",
       "      <td>39.1M</td>\n",
       "    </tr>\n",
       "    <tr>\n",
       "      <th>18</th>\n",
       "      <td>2002</td>\n",
       "      <td>29916767</td>\n",
       "      <td>29.9M</td>\n",
       "    </tr>\n",
       "    <tr>\n",
       "      <th>19</th>\n",
       "      <td>2001</td>\n",
       "      <td>25470095</td>\n",
       "      <td>25.5M</td>\n",
       "    </tr>\n",
       "    <tr>\n",
       "      <th>20</th>\n",
       "      <td>2000</td>\n",
       "      <td>26276135</td>\n",
       "      <td>26.3M</td>\n",
       "    </tr>\n",
       "    <tr>\n",
       "      <th>21</th>\n",
       "      <td>1999</td>\n",
       "      <td>27758681</td>\n",
       "      <td>27.8M</td>\n",
       "    </tr>\n",
       "    <tr>\n",
       "      <th>22</th>\n",
       "      <td>1998</td>\n",
       "      <td>28802221</td>\n",
       "      <td>28.8M</td>\n",
       "    </tr>\n",
       "    <tr>\n",
       "      <th>23</th>\n",
       "      <td>1997</td>\n",
       "      <td>26986915</td>\n",
       "      <td>27.0M</td>\n",
       "    </tr>\n",
       "    <tr>\n",
       "      <th>24</th>\n",
       "      <td>1996</td>\n",
       "      <td>26190094</td>\n",
       "      <td>26.2M</td>\n",
       "    </tr>\n",
       "    <tr>\n",
       "      <th>25</th>\n",
       "      <td>1995</td>\n",
       "      <td>22763540</td>\n",
       "      <td>22.8M</td>\n",
       "    </tr>\n",
       "    <tr>\n",
       "      <th>26</th>\n",
       "      <td>1994</td>\n",
       "      <td>25094010</td>\n",
       "      <td>25.1M</td>\n",
       "    </tr>\n",
       "    <tr>\n",
       "      <th>27</th>\n",
       "      <td>1993</td>\n",
       "      <td>24206929</td>\n",
       "      <td>24.2M</td>\n",
       "    </tr>\n",
       "    <tr>\n",
       "      <th>28</th>\n",
       "      <td>1992</td>\n",
       "      <td>16371876</td>\n",
       "      <td>16.4M</td>\n",
       "    </tr>\n",
       "    <tr>\n",
       "      <th>29</th>\n",
       "      <td>1991</td>\n",
       "      <td>16900934</td>\n",
       "      <td>16.9M</td>\n",
       "    </tr>\n",
       "    <tr>\n",
       "      <th>30</th>\n",
       "      <td>1990</td>\n",
       "      <td>15839052</td>\n",
       "      <td>15.8M</td>\n",
       "    </tr>\n",
       "    <tr>\n",
       "      <th>31</th>\n",
       "      <td>1989</td>\n",
       "      <td>14245186</td>\n",
       "      <td>14.2M</td>\n",
       "    </tr>\n",
       "    <tr>\n",
       "      <th>32</th>\n",
       "      <td>1988</td>\n",
       "      <td>9150440</td>\n",
       "      <td>9.2M</td>\n",
       "    </tr>\n",
       "    <tr>\n",
       "      <th>33</th>\n",
       "      <td>1987</td>\n",
       "      <td>7378836</td>\n",
       "      <td>7.4M</td>\n",
       "    </tr>\n",
       "  </tbody>\n",
       "</table>\n",
       "</div>"
      ]
     },
     "execution_count": 15,
     "metadata": {},
     "output_type": "execute_result"
    }
   ],
   "execution_count": 15
  },
  {
   "metadata": {
    "ExecuteTime": {
     "end_time": "2025-07-27T18:03:53.661044Z",
     "start_time": "2025-07-27T18:03:53.644746Z"
    }
   },
   "cell_type": "code",
   "source": [
    "print(\"Mean:\" + readable_numbers(np.mean(df['number_of_strikes'])))\n",
    "print(\"Median:\" + readable_numbers(np.median(df['number_of_strikes'])))"
   ],
   "id": "a3bad897d8e3bc3b",
   "outputs": [
    {
     "name": "stdout",
     "output_type": "stream",
     "text": [
      "Mean:26.8M\n",
      "Median:28.3M\n"
     ]
    }
   ],
   "execution_count": 7
  },
  {
   "metadata": {
    "ExecuteTime": {
     "end_time": "2025-07-27T18:12:27.734243Z",
     "start_time": "2025-07-27T18:12:27.650431Z"
    }
   },
   "cell_type": "code",
   "source": [
    "box = sns.boxplot(x=df['number_of_strikes'])\n",
    "g = plt.gca()\n",
    "xticks = g.get_xticks()\n",
    "plt.xticks(xticks, labels=[readable_numbers(x) for x in xticks])\n",
    "plt.xlabel('Number of strikes')\n",
    "plt.title('Yearly number of lightning strikes');"
   ],
   "id": "a5607f3cb8875db0",
   "outputs": [
    {
     "data": {
      "text/plain": [
       "<Figure size 640x480 with 1 Axes>"
      ],
      "image/png": "[encoded data removed]"
     },
     "metadata": {},
     "output_type": "display_data"
    }
   ],
   "execution_count": 14
  },
  {
   "metadata": {
    "ExecuteTime": {
     "end_time": "2025-07-27T18:18:58.539583Z",
     "start_time": "2025-07-27T18:18:58.532698Z"
    }
   },
   "cell_type": "code",
   "source": [
    "percentile25 = df['number_of_strikes'].quantile(0.25)\n",
    "\n",
    "percentile75 = df['number_of_strikes'].quantile(0.75)\n",
    "\n",
    "iqr = percentile75 - percentile25\n",
    "\n",
    "upper_limit = percentile75 + 1.5 * iqr\n",
    "lower_limit = percentile25 - 1.5 * iqr\n",
    "\n",
    "print('Lower limit is: '+ readable_numbers(lower_limit))"
   ],
   "id": "127fe5dc65ea58e1",
   "outputs": [
    {
     "name": "stdout",
     "output_type": "stream",
     "text": [
      "Lower limit is: 8.6M\n"
     ]
    }
   ],
   "execution_count": 18
  },
  {
   "metadata": {
    "ExecuteTime": {
     "end_time": "2025-07-27T18:19:52.605536Z",
     "start_time": "2025-07-27T18:19:52.584120Z"
    }
   },
   "cell_type": "code",
   "source": "df[df['number_of_strikes'] < lower_limit]",
   "id": "22db1b51af959697",
   "outputs": [
    {
     "data": {
      "text/plain": [
       "    year  number_of_strikes number_of_strikes_readable\n",
       "1   2019             209166                       209K\n",
       "33  1987            7378836                       7.4M"
      ],
      "text/html": [
       "<div>\n",
       "<style scoped>\n",
       "    .dataframe tbody tr th:only-of-type {\n",
       "        vertical-align: middle;\n",
       "    }\n",
       "\n",
       "    .dataframe tbody tr th {\n",
       "        vertical-align: top;\n",
       "    }\n",
       "\n",
       "    .dataframe thead th {\n",
       "        text-align: right;\n",
       "    }\n",
       "</style>\n",
       "<table border=\"1\" class=\"dataframe\">\n",
       "  <thead>\n",
       "    <tr style=\"text-align: right;\">\n",
       "      <th></th>\n",
       "      <th>year</th>\n",
       "      <th>number_of_strikes</th>\n",
       "      <th>number_of_strikes_readable</th>\n",
       "    </tr>\n",
       "  </thead>\n",
       "  <tbody>\n",
       "    <tr>\n",
       "      <th>1</th>\n",
       "      <td>2019</td>\n",
       "      <td>209166</td>\n",
       "      <td>209K</td>\n",
       "    </tr>\n",
       "    <tr>\n",
       "      <th>33</th>\n",
       "      <td>1987</td>\n",
       "      <td>7378836</td>\n",
       "      <td>7.4M</td>\n",
       "    </tr>\n",
       "  </tbody>\n",
       "</table>\n",
       "</div>"
      ]
     },
     "execution_count": 19,
     "metadata": {},
     "output_type": "execute_result"
    }
   ],
   "execution_count": 19
  },
  {
   "metadata": {
    "ExecuteTime": {
     "end_time": "2025-07-27T18:21:16.680479Z",
     "start_time": "2025-07-27T18:21:16.535102Z"
    }
   },
   "cell_type": "code",
   "source": [
    "def addlabels(x,y):\n",
    "    for i in range(len(x)):\n",
    "        plt.text(x[i]-0.5, y[i]+500000, s=readable_numbers(y[i]))\n",
    "\n",
    "colors = np.where(df['number_of_strikes'] < lower_limit, 'r', 'b')\n",
    "\n",
    "fig, ax = plt.subplots(figsize=(16,8))\n",
    "ax.scatter(df['year'], df['number_of_strikes'],c=colors)\n",
    "ax.set_xlabel('Year')\n",
    "ax.set_ylabel('Number of strikes')\n",
    "ax.set_title('Number of lightning strikes by year')\n",
    "addlabels(df['year'], df['number_of_strikes'])\n",
    "for tick in ax.get_xticklabels():\n",
    "    tick.set_rotation(45)\n",
    "plt.show()"
   ],
   "id": "2c9df44922a0ea79",
   "outputs": [
    {
     "data": {
      "text/plain": [
       "<Figure size 1600x800 with 1 Axes>"
      ],
      "image/png": "[encoded data removed]"
     },
     "metadata": {},
     "output_type": "display_data"
    }
   ],
   "execution_count": 20
  },
  {
   "metadata": {
    "ExecuteTime": {
     "end_time": "2025-07-27T19:20:10.647005Z",
     "start_time": "2025-07-27T19:20:10.556469Z"
    }
   },
   "cell_type": "code",
   "source": [
    "df_2019 = pd.read_csv('eda_outliers_dataset2.csv')\n",
    "df_2019.head(10)"
   ],
   "id": "9013d7790d706b69",
   "outputs": [
    {
     "data": {
      "text/plain": [
       "         date  number_of_strikes  center_point_geom\n",
       "0  2019-12-01                  1  POINT(-79.7 35.3)\n",
       "1  2019-12-01                  1  POINT(-84.7 39.3)\n",
       "2  2019-12-01                  1  POINT(-83.4 38.9)\n",
       "3  2019-12-01                  1  POINT(-71.5 35.2)\n",
       "4  2019-12-01                  1  POINT(-87.8 41.6)\n",
       "5  2019-12-01                  1  POINT(-85.4 36.8)\n",
       "6  2019-12-01                  1    POINT(-84 40.9)\n",
       "7  2019-12-01                  1  POINT(-54.7 40.9)\n",
       "8  2019-12-01                  1  POINT(-82.3 35.7)\n",
       "9  2019-12-01                  1  POINT(-55.7 40.7)"
      ],
      "text/html": [
       "<div>\n",
       "<style scoped>\n",
       "    .dataframe tbody tr th:only-of-type {\n",
       "        vertical-align: middle;\n",
       "    }\n",
       "\n",
       "    .dataframe tbody tr th {\n",
       "        vertical-align: top;\n",
       "    }\n",
       "\n",
       "    .dataframe thead th {\n",
       "        text-align: right;\n",
       "    }\n",
       "</style>\n",
       "<table border=\"1\" class=\"dataframe\">\n",
       "  <thead>\n",
       "    <tr style=\"text-align: right;\">\n",
       "      <th></th>\n",
       "      <th>date</th>\n",
       "      <th>number_of_strikes</th>\n",
       "      <th>center_point_geom</th>\n",
       "    </tr>\n",
       "  </thead>\n",
       "  <tbody>\n",
       "    <tr>\n",
       "      <th>0</th>\n",
       "      <td>2019-12-01</td>\n",
       "      <td>1</td>\n",
       "      <td>POINT(-79.7 35.3)</td>\n",
       "    </tr>\n",
       "    <tr>\n",
       "      <th>1</th>\n",
       "      <td>2019-12-01</td>\n",
       "      <td>1</td>\n",
       "      <td>POINT(-84.7 39.3)</td>\n",
       "    </tr>\n",
       "    <tr>\n",
       "      <th>2</th>\n",
       "      <td>2019-12-01</td>\n",
       "      <td>1</td>\n",
       "      <td>POINT(-83.4 38.9)</td>\n",
       "    </tr>\n",
       "    <tr>\n",
       "      <th>3</th>\n",
       "      <td>2019-12-01</td>\n",
       "      <td>1</td>\n",
       "      <td>POINT(-71.5 35.2)</td>\n",
       "    </tr>\n",
       "    <tr>\n",
       "      <th>4</th>\n",
       "      <td>2019-12-01</td>\n",
       "      <td>1</td>\n",
       "      <td>POINT(-87.8 41.6)</td>\n",
       "    </tr>\n",
       "    <tr>\n",
       "      <th>5</th>\n",
       "      <td>2019-12-01</td>\n",
       "      <td>1</td>\n",
       "      <td>POINT(-85.4 36.8)</td>\n",
       "    </tr>\n",
       "    <tr>\n",
       "      <th>6</th>\n",
       "      <td>2019-12-01</td>\n",
       "      <td>1</td>\n",
       "      <td>POINT(-84 40.9)</td>\n",
       "    </tr>\n",
       "    <tr>\n",
       "      <th>7</th>\n",
       "      <td>2019-12-01</td>\n",
       "      <td>1</td>\n",
       "      <td>POINT(-54.7 40.9)</td>\n",
       "    </tr>\n",
       "    <tr>\n",
       "      <th>8</th>\n",
       "      <td>2019-12-01</td>\n",
       "      <td>1</td>\n",
       "      <td>POINT(-82.3 35.7)</td>\n",
       "    </tr>\n",
       "    <tr>\n",
       "      <th>9</th>\n",
       "      <td>2019-12-01</td>\n",
       "      <td>1</td>\n",
       "      <td>POINT(-55.7 40.7)</td>\n",
       "    </tr>\n",
       "  </tbody>\n",
       "</table>\n",
       "</div>"
      ]
     },
     "execution_count": 22,
     "metadata": {},
     "output_type": "execute_result"
    }
   ],
   "execution_count": 22
  },
  {
   "metadata": {
    "ExecuteTime": {
     "end_time": "2025-07-27T19:23:51.682812Z",
     "start_time": "2025-07-27T19:23:51.603948Z"
    }
   },
   "cell_type": "code",
   "source": [
    "df_2019['date']= pd.to_datetime(df_2019['date'])\n",
    "\n",
    "df_2019['month'] = df_2019['date'].dt.month\n",
    "df_2019['month_txt'] = df_2019['date'].dt.month_name().str.slice(stop=3)\n",
    "\n",
    "\n",
    "df_2019_by_month = df_2019.groupby(['month','month_txt']).sum(numeric_only=True).sort_values('month', ascending=True).head(12).reset_index()\n",
    "df_2019_by_month"
   ],
   "id": "30322b27693017a4",
   "outputs": [
    {
     "data": {
      "text/plain": [
       "   month month_txt  number_of_strikes\n",
       "0     12       Dec             209166"
      ],
      "text/html": [
       "<div>\n",
       "<style scoped>\n",
       "    .dataframe tbody tr th:only-of-type {\n",
       "        vertical-align: middle;\n",
       "    }\n",
       "\n",
       "    .dataframe tbody tr th {\n",
       "        vertical-align: top;\n",
       "    }\n",
       "\n",
       "    .dataframe thead th {\n",
       "        text-align: right;\n",
       "    }\n",
       "</style>\n",
       "<table border=\"1\" class=\"dataframe\">\n",
       "  <thead>\n",
       "    <tr style=\"text-align: right;\">\n",
       "      <th></th>\n",
       "      <th>month</th>\n",
       "      <th>month_txt</th>\n",
       "      <th>number_of_strikes</th>\n",
       "    </tr>\n",
       "  </thead>\n",
       "  <tbody>\n",
       "    <tr>\n",
       "      <th>0</th>\n",
       "      <td>12</td>\n",
       "      <td>Dec</td>\n",
       "      <td>209166</td>\n",
       "    </tr>\n",
       "  </tbody>\n",
       "</table>\n",
       "</div>"
      ]
     },
     "execution_count": 23,
     "metadata": {},
     "output_type": "execute_result"
    }
   ],
   "execution_count": 23
  },
  {
   "metadata": {},
   "cell_type": "markdown",
   "source": "2019 appears to have data only for the month of December. The likelihood of there not being any lightning from January to November 2019 is ~0. This appears to be a case of missing data. I should probably exclude 2019 from the analysis (for most use cases).",
   "id": "a93716407ac4f69f"
  },
  {
   "metadata": {
    "ExecuteTime": {
     "end_time": "2025-07-27T19:26:17.638349Z",
     "start_time": "2025-07-27T19:26:16.137925Z"
    }
   },
   "cell_type": "code",
   "source": [
    "df_1987 = pd.read_csv('eda_outliers_dataset3.csv')\n",
    "df_1987['date']= pd.to_datetime(df_1987['date'])\n",
    "df_1987['month'] = df_1987['date'].dt.month\n",
    "df_1987['month_txt'] = df_1987['date'].dt.month_name().str.slice(stop=3)\n",
    "\n",
    "\n",
    "df_1987_by_month = df_1987.groupby(['month','month_txt']).sum(numeric_only=True).sort_values('month', ascending=True).head(12).reset_index()\n",
    "df_1987_by_month"
   ],
   "id": "b5e3f6f293062df7",
   "outputs": [
    {
     "data": {
      "text/plain": [
       "    month month_txt  number_of_strikes\n",
       "0       1       Jan              23044\n",
       "1       2       Feb              61020\n",
       "2       3       Mar             117877\n",
       "3       4       Apr             157890\n",
       "4       5       May             700910\n",
       "5       6       Jun            1064166\n",
       "6       7       Jul            2077619\n",
       "7       8       Aug            2001899\n",
       "8       9       Sep             869833\n",
       "9      10       Oct             105627\n",
       "10     11       Nov             155290\n",
       "11     12       Dec              43661"
      ],
      "text/html": [
       "<div>\n",
       "<style scoped>\n",
       "    .dataframe tbody tr th:only-of-type {\n",
       "        vertical-align: middle;\n",
       "    }\n",
       "\n",
       "    .dataframe tbody tr th {\n",
       "        vertical-align: top;\n",
       "    }\n",
       "\n",
       "    .dataframe thead th {\n",
       "        text-align: right;\n",
       "    }\n",
       "</style>\n",
       "<table border=\"1\" class=\"dataframe\">\n",
       "  <thead>\n",
       "    <tr style=\"text-align: right;\">\n",
       "      <th></th>\n",
       "      <th>month</th>\n",
       "      <th>month_txt</th>\n",
       "      <th>number_of_strikes</th>\n",
       "    </tr>\n",
       "  </thead>\n",
       "  <tbody>\n",
       "    <tr>\n",
       "      <th>0</th>\n",
       "      <td>1</td>\n",
       "      <td>Jan</td>\n",
       "      <td>23044</td>\n",
       "    </tr>\n",
       "    <tr>\n",
       "      <th>1</th>\n",
       "      <td>2</td>\n",
       "      <td>Feb</td>\n",
       "      <td>61020</td>\n",
       "    </tr>\n",
       "    <tr>\n",
       "      <th>2</th>\n",
       "      <td>3</td>\n",
       "      <td>Mar</td>\n",
       "      <td>117877</td>\n",
       "    </tr>\n",
       "    <tr>\n",
       "      <th>3</th>\n",
       "      <td>4</td>\n",
       "      <td>Apr</td>\n",
       "      <td>157890</td>\n",
       "    </tr>\n",
       "    <tr>\n",
       "      <th>4</th>\n",
       "      <td>5</td>\n",
       "      <td>May</td>\n",
       "      <td>700910</td>\n",
       "    </tr>\n",
       "    <tr>\n",
       "      <th>5</th>\n",
       "      <td>6</td>\n",
       "      <td>Jun</td>\n",
       "      <td>1064166</td>\n",
       "    </tr>\n",
       "    <tr>\n",
       "      <th>6</th>\n",
       "      <td>7</td>\n",
       "      <td>Jul</td>\n",
       "      <td>2077619</td>\n",
       "    </tr>\n",
       "    <tr>\n",
       "      <th>7</th>\n",
       "      <td>8</td>\n",
       "      <td>Aug</td>\n",
       "      <td>2001899</td>\n",
       "    </tr>\n",
       "    <tr>\n",
       "      <th>8</th>\n",
       "      <td>9</td>\n",
       "      <td>Sep</td>\n",
       "      <td>869833</td>\n",
       "    </tr>\n",
       "    <tr>\n",
       "      <th>9</th>\n",
       "      <td>10</td>\n",
       "      <td>Oct</td>\n",
       "      <td>105627</td>\n",
       "    </tr>\n",
       "    <tr>\n",
       "      <th>10</th>\n",
       "      <td>11</td>\n",
       "      <td>Nov</td>\n",
       "      <td>155290</td>\n",
       "    </tr>\n",
       "    <tr>\n",
       "      <th>11</th>\n",
       "      <td>12</td>\n",
       "      <td>Dec</td>\n",
       "      <td>43661</td>\n",
       "    </tr>\n",
       "  </tbody>\n",
       "</table>\n",
       "</div>"
      ]
     },
     "execution_count": 24,
     "metadata": {},
     "output_type": "execute_result"
    }
   ],
   "execution_count": 24
  },
  {
   "metadata": {
    "ExecuteTime": {
     "end_time": "2025-07-27T19:27:10.312374Z",
     "start_time": "2025-07-27T19:27:10.293677Z"
    }
   },
   "cell_type": "code",
   "source": [
    "df_without_outliers = df[df['number_of_strikes'] >= lower_limit]\n",
    "\n",
    "print(\"Mean:\" + readable_numbers(np.mean(df_without_outliers['number_of_strikes'])))\n",
    "print(\"Median:\" + readable_numbers(np.median(df_without_outliers['number_of_strikes'])))"
   ],
   "id": "dd747f7b5607318f",
   "outputs": [
    {
     "name": "stdout",
     "output_type": "stream",
     "text": [
      "Mean:28.2M\n",
      "Median:28.8M\n"
     ]
    }
   ],
   "execution_count": 25
  }
 ],
 "metadata": {
  "kernelspec": {
   "display_name": "Python 3",
   "language": "python",
   "name": "python3"
  },
  "language_info": {
   "codemirror_mode": {
    "name": "ipython",
    "version": 2
   },
   "file_extension": ".py",
   "mimetype": "text/x-python",
   "name": "python",
   "nbconvert_exporter": "python",
   "pygments_lexer": "ipython2",
   "version": "2.7.6"
  }
 },
 "nbformat": 4,
 "nbformat_minor": 5
}
